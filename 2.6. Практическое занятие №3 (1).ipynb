{
 "cells": [
  {
   "cell_type": "markdown",
   "id": "03bebb0b-0979-4398-8c32-027fd2f90932",
   "metadata": {
    "tags": []
   },
   "source": [
    "# 2.6. Практическое занятие №3.\n",
    "## Построение моделей бинарной классификации и анализ их точности"
   ]
  },
  {
   "cell_type": "markdown",
   "id": "c9770054-1b3b-4b13-94f4-2531e14c982e",
   "metadata": {
    "tags": []
   },
   "source": [
    "### 1. Загружаем библиотеки pandas, numpy, matplotlib необходимые для решения задачи"
   ]
  },
  {
   "cell_type": "code",
   "execution_count": null,
   "id": "8cdcf6ec-d1f9-443f-9396-f8d83733584c",
   "metadata": {},
   "outputs": [
    {
     "name": "stdout",
     "output_type": "stream",
     "text": [
      "Collecting pandoc\n",
      "  Downloading pandoc-2.3.tar.gz (33 kB)\n",
      "  Preparing metadata (setup.py): started\n",
      "  Preparing metadata (setup.py): finished with status 'done'\n",
      "Collecting plumbum\n",
      "  Downloading plumbum-1.8.2-py3-none-any.whl (127 kB)\n",
      "     -------------------------------------- 127.0/127.0 kB 1.9 MB/s eta 0:00:00\n",
      "Requirement already satisfied: ply in c:\\users\\bashk\\anaconda3\\lib\\site-packages (from pandoc) (3.11)\n",
      "Requirement already satisfied: pywin32 in c:\\users\\bashk\\anaconda3\\lib\\site-packages (from plumbum->pandoc) (305.1)\n",
      "Building wheels for collected packages: pandoc\n",
      "  Building wheel for pandoc (setup.py): started\n",
      "  Building wheel for pandoc (setup.py): finished with status 'done'\n",
      "  Created wheel for pandoc: filename=pandoc-2.3-py3-none-any.whl size=33288 sha256=96fd4a117925f8392cdb6efdfae8a22b3cad362b1b3c0af52a61f87a8ee05ba1\n",
      "  Stored in directory: c:\\users\\bashk\\appdata\\local\\pip\\cache\\wheels\\df\\68\\e2\\574df0737a398965be3a1977499bbda7a841a4605d8dda34d2\n",
      "Successfully built pandoc\n",
      "Installing collected packages: plumbum, pandoc\n",
      "Successfully installed pandoc-2.3 plumbum-1.8.2\n"
     ]
    }
   ],
   "source": [
    "!pip install pandoc"
   ]
  },
  {
   "cell_type": "code",
   "execution_count": 1,
   "id": "dbe19a1d-233f-4c39-8c57-73f6992089cd",
   "metadata": {},
   "outputs": [],
   "source": [
    "import pandas as pd\n",
    "import numpy as np\n",
    "import matplotlib.pyplot as plt"
   ]
  },
  {
   "cell_type": "markdown",
   "id": "4bd14101-e99a-468d-b78c-26303e46d3f1",
   "metadata": {},
   "source": [
    "Загружаем данные"
   ]
  },
  {
   "cell_type": "code",
   "execution_count": 2,
   "id": "2f80caed-25ca-4038-8c61-bf8eb2d1d177",
   "metadata": {},
   "outputs": [
    {
     "data": {
      "text/html": [
       "<div>\n",
       "<style scoped>\n",
       "    .dataframe tbody tr th:only-of-type {\n",
       "        vertical-align: middle;\n",
       "    }\n",
       "\n",
       "    .dataframe tbody tr th {\n",
       "        vertical-align: top;\n",
       "    }\n",
       "\n",
       "    .dataframe thead th {\n",
       "        text-align: right;\n",
       "    }\n",
       "</style>\n",
       "<table border=\"1\" class=\"dataframe\">\n",
       "  <thead>\n",
       "    <tr style=\"text-align: right;\">\n",
       "      <th></th>\n",
       "      <th>PassengerId</th>\n",
       "      <th>Survived</th>\n",
       "      <th>Pclass</th>\n",
       "      <th>Name</th>\n",
       "      <th>Sex</th>\n",
       "      <th>Age</th>\n",
       "      <th>SibSp</th>\n",
       "      <th>Parch</th>\n",
       "      <th>Ticket</th>\n",
       "      <th>Fare</th>\n",
       "      <th>Cabin</th>\n",
       "      <th>Embarked</th>\n",
       "    </tr>\n",
       "  </thead>\n",
       "  <tbody>\n",
       "    <tr>\n",
       "      <th>0</th>\n",
       "      <td>1</td>\n",
       "      <td>0</td>\n",
       "      <td>3</td>\n",
       "      <td>Braund, Mr. Owen Harris</td>\n",
       "      <td>male</td>\n",
       "      <td>22.0</td>\n",
       "      <td>1</td>\n",
       "      <td>0</td>\n",
       "      <td>A/5 21171</td>\n",
       "      <td>7.2500</td>\n",
       "      <td>NaN</td>\n",
       "      <td>S</td>\n",
       "    </tr>\n",
       "    <tr>\n",
       "      <th>1</th>\n",
       "      <td>2</td>\n",
       "      <td>1</td>\n",
       "      <td>1</td>\n",
       "      <td>Cumings, Mrs. John Bradley (Florence Briggs Th...</td>\n",
       "      <td>female</td>\n",
       "      <td>38.0</td>\n",
       "      <td>1</td>\n",
       "      <td>0</td>\n",
       "      <td>PC 17599</td>\n",
       "      <td>71.2833</td>\n",
       "      <td>C85</td>\n",
       "      <td>C</td>\n",
       "    </tr>\n",
       "    <tr>\n",
       "      <th>2</th>\n",
       "      <td>3</td>\n",
       "      <td>1</td>\n",
       "      <td>3</td>\n",
       "      <td>Heikkinen, Miss. Laina</td>\n",
       "      <td>female</td>\n",
       "      <td>26.0</td>\n",
       "      <td>0</td>\n",
       "      <td>0</td>\n",
       "      <td>STON/O2. 3101282</td>\n",
       "      <td>7.9250</td>\n",
       "      <td>NaN</td>\n",
       "      <td>S</td>\n",
       "    </tr>\n",
       "  </tbody>\n",
       "</table>\n",
       "</div>"
      ],
      "text/plain": [
       "   PassengerId  Survived  Pclass  \\\n",
       "0            1         0       3   \n",
       "1            2         1       1   \n",
       "2            3         1       3   \n",
       "\n",
       "                                                Name     Sex   Age  SibSp  \\\n",
       "0                            Braund, Mr. Owen Harris    male  22.0      1   \n",
       "1  Cumings, Mrs. John Bradley (Florence Briggs Th...  female  38.0      1   \n",
       "2                             Heikkinen, Miss. Laina  female  26.0      0   \n",
       "\n",
       "   Parch            Ticket     Fare Cabin Embarked  \n",
       "0      0         A/5 21171   7.2500   NaN        S  \n",
       "1      0          PC 17599  71.2833   C85        C  \n",
       "2      0  STON/O2. 3101282   7.9250   NaN        S  "
      ]
     },
     "execution_count": 2,
     "metadata": {},
     "output_type": "execute_result"
    }
   ],
   "source": [
    "bashkatova = pd.read_csv(\"train.csv\")\n",
    "bashkatova.head(3)"
   ]
  },
  {
   "cell_type": "markdown",
   "id": "c9e89f0b-610b-4bdc-a6e4-8357d2aad3b9",
   "metadata": {},
   "source": [
    "Проверяем данные (ифнормация о типах и кол-ве пропущенных значений)"
   ]
  },
  {
   "cell_type": "code",
   "execution_count": 3,
   "id": "ad6ea1c4-dc90-4359-95c7-dc538e2399dd",
   "metadata": {},
   "outputs": [
    {
     "name": "stdout",
     "output_type": "stream",
     "text": [
      "<class 'pandas.core.frame.DataFrame'>\n",
      "RangeIndex: 891 entries, 0 to 890\n",
      "Data columns (total 12 columns):\n",
      " #   Column       Non-Null Count  Dtype  \n",
      "---  ------       --------------  -----  \n",
      " 0   PassengerId  891 non-null    int64  \n",
      " 1   Survived     891 non-null    int64  \n",
      " 2   Pclass       891 non-null    int64  \n",
      " 3   Name         891 non-null    object \n",
      " 4   Sex          891 non-null    object \n",
      " 5   Age          714 non-null    float64\n",
      " 6   SibSp        891 non-null    int64  \n",
      " 7   Parch        891 non-null    int64  \n",
      " 8   Ticket       891 non-null    object \n",
      " 9   Fare         891 non-null    float64\n",
      " 10  Cabin        204 non-null    object \n",
      " 11  Embarked     889 non-null    object \n",
      "dtypes: float64(2), int64(5), object(5)\n",
      "memory usage: 83.7+ KB\n"
     ]
    }
   ],
   "source": [
    "bashkatova.info()"
   ]
  },
  {
   "cell_type": "markdown",
   "id": "05ffe732-6c87-41fa-972a-0caa8fb5832c",
   "metadata": {},
   "source": [
    "Для полей Age, Cabin, Embarked есть пропуски."
   ]
  },
  {
   "cell_type": "markdown",
   "id": "498db84a-ad51-46ec-ba06-7aec5de3f993",
   "metadata": {},
   "source": [
    "Проверяем насколько заполнено поле Age:"
   ]
  },
  {
   "cell_type": "code",
   "execution_count": 4,
   "id": "7d582f75-39ea-4142-b10a-688ad58f6303",
   "metadata": {},
   "outputs": [
    {
     "data": {
      "text/plain": [
       "714"
      ]
     },
     "execution_count": 4,
     "metadata": {},
     "output_type": "execute_result"
    }
   ],
   "source": [
    "bashkatova.PassengerId[bashkatova.Age.notnull()].count()"
   ]
  },
  {
   "cell_type": "markdown",
   "id": "aa4db278-f3e8-48ec-9086-ce4dff987be8",
   "metadata": {},
   "source": [
    "Заполняем пустые значения медианными значениями возраста пассажиров."
   ]
  },
  {
   "cell_type": "code",
   "execution_count": 5,
   "id": "6a02e637-9408-41ca-b565-0397fe18cd7a",
   "metadata": {},
   "outputs": [
    {
     "name": "stdout",
     "output_type": "stream",
     "text": [
      "28.0\n"
     ]
    }
   ],
   "source": [
    "medianAge = bashkatova.Age.median()\n",
    "print(medianAge)"
   ]
  },
  {
   "cell_type": "code",
   "execution_count": 6,
   "id": "b7267cd3-888e-4e0f-bc33-2b63af09bc45",
   "metadata": {},
   "outputs": [
    {
     "name": "stderr",
     "output_type": "stream",
     "text": [
      "C:\\Users\\Bashk\\AppData\\Local\\Temp\\ipykernel_7740\\3559879876.py:1: SettingWithCopyWarning: \n",
      "A value is trying to be set on a copy of a slice from a DataFrame\n",
      "\n",
      "See the caveats in the documentation: https://pandas.pydata.org/pandas-docs/stable/user_guide/indexing.html#returning-a-view-versus-a-copy\n",
      "  bashkatova.Age[bashkatova.Age.isnull()] = medianAge\n"
     ]
    }
   ],
   "source": [
    "bashkatova.Age[bashkatova.Age.isnull()] = medianAge"
   ]
  },
  {
   "cell_type": "markdown",
   "id": "0d2a547f-eb7d-4baf-8f8b-8b562a9e3c0a",
   "metadata": {},
   "source": [
    "Поле Cabin содержит номера кают. Определим у каких пассажиров отсутствует информация о номерах кают. Используем оператор, который выбирает значения поля PassengerId, которым соответствуют неопреленные значения поля Cabin."
   ]
  },
  {
   "cell_type": "code",
   "execution_count": 7,
   "id": "dc45eca2-1f24-4555-8c40-0c9901991803",
   "metadata": {},
   "outputs": [
    {
     "data": {
      "text/plain": [
       "1      2\n",
       "3      4\n",
       "6      7\n",
       "10    11\n",
       "11    12\n",
       "21    22\n",
       "23    24\n",
       "Name: PassengerId, dtype: int64"
      ]
     },
     "execution_count": 7,
     "metadata": {},
     "output_type": "execute_result"
    }
   ],
   "source": [
    "Cab=bashkatova['PassengerId'][bashkatova['Cabin'].notnull()]\n",
    "Cab.head(7)"
   ]
  },
  {
   "cell_type": "markdown",
   "id": "5305f4f2-31e8-4b46-8d8b-7f706ec95ba1",
   "metadata": {},
   "source": [
    "Число неопределенных значений определим с помощью оператора shape."
   ]
  },
  {
   "cell_type": "code",
   "execution_count": 8,
   "id": "cc91d8c3-0061-4f3c-9c83-418da335cb41",
   "metadata": {},
   "outputs": [
    {
     "name": "stdout",
     "output_type": "stream",
     "text": [
      "204\n"
     ]
    }
   ],
   "source": [
    "print(Cab.shape[0])"
   ]
  },
  {
   "cell_type": "markdown",
   "id": "beaff73a-7702-48e0-89a8-332cdbcdbaff",
   "metadata": {},
   "source": [
    "Т.к. число пропцщенных значений 204 из 890, но данное поле при анализе может быть бесполезным."
   ]
  },
  {
   "cell_type": "markdown",
   "id": "381cbda0-633d-426a-aed2-f0991476501f",
   "metadata": {},
   "source": [
    "Проверяем есть ли пассажиры, у которых не указан порт посадки."
   ]
  },
  {
   "cell_type": "code",
   "execution_count": 9,
   "id": "37f0723a-6055-4ee3-9ca5-0be9335f1686",
   "metadata": {},
   "outputs": [
    {
     "data": {
      "text/plain": [
       "2"
      ]
     },
     "execution_count": 9,
     "metadata": {},
     "output_type": "execute_result"
    }
   ],
   "source": [
    "bashkatova[bashkatova.Embarked.isnull()].shape[0]"
   ]
  },
  {
   "cell_type": "markdown",
   "id": "77beac78-db77-4a14-9e2c-7c1e168c2204",
   "metadata": {},
   "source": [
    "Присваиваем таким пассажирам порт, в котором село больше всего людей."
   ]
  },
  {
   "cell_type": "code",
   "execution_count": 10,
   "id": "027aecf1-3166-428c-abcf-670f3a594eae",
   "metadata": {},
   "outputs": [
    {
     "data": {
      "text/plain": [
       "Embarked\n",
       "C    168\n",
       "Q     77\n",
       "S    644\n",
       "Name: PassengerId, dtype: int64"
      ]
     },
     "execution_count": 10,
     "metadata": {},
     "output_type": "execute_result"
    }
   ],
   "source": [
    "MaxPassEmb = bashkatova.groupby('Embarked').count()['PassengerId']\n",
    "MaxPassEmb"
   ]
  },
  {
   "cell_type": "code",
   "execution_count": 11,
   "id": "da76eb8e-e863-47c0-b687-77a06bd15b47",
   "metadata": {},
   "outputs": [
    {
     "name": "stdout",
     "output_type": "stream",
     "text": [
      "S\n"
     ]
    }
   ],
   "source": [
    "Port=MaxPassEmb[MaxPassEmb == MaxPassEmb.max()].index[0]\n",
    "print(Port)"
   ]
  },
  {
   "cell_type": "code",
   "execution_count": 12,
   "id": "f5176cf4-8cb1-4b43-ba97-ee148565f35c",
   "metadata": {},
   "outputs": [
    {
     "name": "stderr",
     "output_type": "stream",
     "text": [
      "C:\\Users\\Bashk\\AppData\\Local\\Temp\\ipykernel_7740\\4168732869.py:1: SettingWithCopyWarning: \n",
      "A value is trying to be set on a copy of a slice from a DataFrame\n",
      "\n",
      "See the caveats in the documentation: https://pandas.pydata.org/pandas-docs/stable/user_guide/indexing.html#returning-a-view-versus-a-copy\n",
      "  bashkatova.Embarked[bashkatova.Embarked.isnull()] = Port\n"
     ]
    }
   ],
   "source": [
    "bashkatova.Embarked[bashkatova.Embarked.isnull()] = Port"
   ]
  },
  {
   "cell_type": "markdown",
   "id": "dd0aa10f-94b9-4971-8fe0-697dbe68280f",
   "metadata": {},
   "source": [
    "Проверяем поле с ценой на наличие пустых значений"
   ]
  },
  {
   "cell_type": "code",
   "execution_count": 13,
   "id": "af69652a-855f-46c1-a390-cf9aa945287a",
   "metadata": {},
   "outputs": [
    {
     "data": {
      "text/plain": [
       "0"
      ]
     },
     "execution_count": 13,
     "metadata": {},
     "output_type": "execute_result"
    }
   ],
   "source": [
    "bashkatova.PassengerId[bashkatova.Fare.isnull()].shape[0]"
   ]
  },
  {
   "cell_type": "markdown",
   "id": "0df6d44a-5502-4d03-8cd7-8716bc0fe7d6",
   "metadata": {
    "jp-MarkdownHeadingCollapsed": true,
    "tags": []
   },
   "source": [
    "### 2. Преобразовываем категориальные признаки в числовыес помощью класса *LabelEncoder()*. \n",
    "<br>\n",
    " * *Суть функции преобразования данного класса заключается в том, что на вход ей подается список значений, который надо закодировать (например, текстовые переменные), а на выходе получается список индексов, каждый из которых являются кодом уникальных значений поданного на вход списка. Первым делом объявляем класс LabelEncoder*"
   ]
  },
  {
   "cell_type": "code",
   "execution_count": 14,
   "id": "1fea2bcf-0205-4d65-a60c-d7a6c2093a41",
   "metadata": {},
   "outputs": [],
   "source": [
    "from sklearn.preprocessing import LabelEncoder\n",
    "la = LabelEncoder()"
   ]
  },
  {
   "cell_type": "code",
   "execution_count": 15,
   "id": "e6ac6298-a933-4c02-b022-aefe23fbbce6",
   "metadata": {},
   "outputs": [
    {
     "data": {
      "image/png": "[encoded data removed]",
      "text/plain": [
       "<Figure size 640x480 with 1 Axes>"
      ]
     },
     "metadata": {},
     "output_type": "display_data"
    }
   ],
   "source": [
    "mapped_sex = pd.Series(la.fit_transform(bashkatova['Sex']))\n",
    "mapped_sex.value_counts().plot.barh()\n",
    "plt.title(\"Численность пассажиров мужского и женского пола\")\n",
    "plt.show()"
   ]
  },
  {
   "cell_type": "markdown",
   "id": "8b495c4a-132b-4b28-ad38-eb3dee4d0481",
   "metadata": {},
   "source": [
    "Уникальные индексы поля Sex и их текстовые значения. Создаем словарь с именем dicts"
   ]
  },
  {
   "cell_type": "code",
   "execution_count": 16,
   "id": "ba456d75-69a3-4571-ac4e-9b627172811e",
   "metadata": {},
   "outputs": [
    {
     "name": "stdout",
     "output_type": "stream",
     "text": [
      "{0: 'female', 1: 'male'}\n"
     ]
    }
   ],
   "source": [
    "dicts = {}\n",
    "dicts=dict(enumerate(la.classes_)) \n",
    "print(dicts)"
   ]
  },
  {
   "cell_type": "markdown",
   "id": "92fae7d7-79db-4389-8dbd-e06317ad0e0c",
   "metadata": {},
   "source": [
    "Полученный массив числовых индексов поля Sex загружаем в таблицу,заменяя текстовые значения поля."
   ]
  },
  {
   "cell_type": "code",
   "execution_count": 17,
   "id": "80292eca-2f9c-4719-bee9-65278587411a",
   "metadata": {},
   "outputs": [
    {
     "data": {
      "text/html": [
       "<div>\n",
       "<style scoped>\n",
       "    .dataframe tbody tr th:only-of-type {\n",
       "        vertical-align: middle;\n",
       "    }\n",
       "\n",
       "    .dataframe tbody tr th {\n",
       "        vertical-align: top;\n",
       "    }\n",
       "\n",
       "    .dataframe thead th {\n",
       "        text-align: right;\n",
       "    }\n",
       "</style>\n",
       "<table border=\"1\" class=\"dataframe\">\n",
       "  <thead>\n",
       "    <tr style=\"text-align: right;\">\n",
       "      <th></th>\n",
       "      <th>PassengerId</th>\n",
       "      <th>Survived</th>\n",
       "      <th>Pclass</th>\n",
       "      <th>Name</th>\n",
       "      <th>Sex</th>\n",
       "      <th>Age</th>\n",
       "      <th>SibSp</th>\n",
       "      <th>Parch</th>\n",
       "      <th>Ticket</th>\n",
       "      <th>Fare</th>\n",
       "      <th>Cabin</th>\n",
       "      <th>Embarked</th>\n",
       "    </tr>\n",
       "  </thead>\n",
       "  <tbody>\n",
       "    <tr>\n",
       "      <th>0</th>\n",
       "      <td>1</td>\n",
       "      <td>0</td>\n",
       "      <td>3</td>\n",
       "      <td>Braund, Mr. Owen Harris</td>\n",
       "      <td>1</td>\n",
       "      <td>22.0</td>\n",
       "      <td>1</td>\n",
       "      <td>0</td>\n",
       "      <td>A/5 21171</td>\n",
       "      <td>7.2500</td>\n",
       "      <td>NaN</td>\n",
       "      <td>S</td>\n",
       "    </tr>\n",
       "    <tr>\n",
       "      <th>1</th>\n",
       "      <td>2</td>\n",
       "      <td>1</td>\n",
       "      <td>1</td>\n",
       "      <td>Cumings, Mrs. John Bradley (Florence Briggs Th...</td>\n",
       "      <td>0</td>\n",
       "      <td>38.0</td>\n",
       "      <td>1</td>\n",
       "      <td>0</td>\n",
       "      <td>PC 17599</td>\n",
       "      <td>71.2833</td>\n",
       "      <td>C85</td>\n",
       "      <td>C</td>\n",
       "    </tr>\n",
       "    <tr>\n",
       "      <th>2</th>\n",
       "      <td>3</td>\n",
       "      <td>1</td>\n",
       "      <td>3</td>\n",
       "      <td>Heikkinen, Miss. Laina</td>\n",
       "      <td>0</td>\n",
       "      <td>26.0</td>\n",
       "      <td>0</td>\n",
       "      <td>0</td>\n",
       "      <td>STON/O2. 3101282</td>\n",
       "      <td>7.9250</td>\n",
       "      <td>NaN</td>\n",
       "      <td>S</td>\n",
       "    </tr>\n",
       "    <tr>\n",
       "      <th>3</th>\n",
       "      <td>4</td>\n",
       "      <td>1</td>\n",
       "      <td>1</td>\n",
       "      <td>Futrelle, Mrs. Jacques Heath (Lily May Peel)</td>\n",
       "      <td>0</td>\n",
       "      <td>35.0</td>\n",
       "      <td>1</td>\n",
       "      <td>0</td>\n",
       "      <td>113803</td>\n",
       "      <td>53.1000</td>\n",
       "      <td>C123</td>\n",
       "      <td>S</td>\n",
       "    </tr>\n",
       "    <tr>\n",
       "      <th>4</th>\n",
       "      <td>5</td>\n",
       "      <td>0</td>\n",
       "      <td>3</td>\n",
       "      <td>Allen, Mr. William Henry</td>\n",
       "      <td>1</td>\n",
       "      <td>35.0</td>\n",
       "      <td>0</td>\n",
       "      <td>0</td>\n",
       "      <td>373450</td>\n",
       "      <td>8.0500</td>\n",
       "      <td>NaN</td>\n",
       "      <td>S</td>\n",
       "    </tr>\n",
       "  </tbody>\n",
       "</table>\n",
       "</div>"
      ],
      "text/plain": [
       "   PassengerId  Survived  Pclass  \\\n",
       "0            1         0       3   \n",
       "1            2         1       1   \n",
       "2            3         1       3   \n",
       "3            4         1       1   \n",
       "4            5         0       3   \n",
       "\n",
       "                                                Name  Sex   Age  SibSp  Parch  \\\n",
       "0                            Braund, Mr. Owen Harris    1  22.0      1      0   \n",
       "1  Cumings, Mrs. John Bradley (Florence Briggs Th...    0  38.0      1      0   \n",
       "2                             Heikkinen, Miss. Laina    0  26.0      0      0   \n",
       "3       Futrelle, Mrs. Jacques Heath (Lily May Peel)    0  35.0      1      0   \n",
       "4                           Allen, Mr. William Henry    1  35.0      0      0   \n",
       "\n",
       "             Ticket     Fare Cabin Embarked  \n",
       "0         A/5 21171   7.2500   NaN        S  \n",
       "1          PC 17599  71.2833   C85        C  \n",
       "2  STON/O2. 3101282   7.9250   NaN        S  \n",
       "3            113803  53.1000  C123        S  \n",
       "4            373450   8.0500   NaN        S  "
      ]
     },
     "execution_count": 17,
     "metadata": {},
     "output_type": "execute_result"
    }
   ],
   "source": [
    "bashkatova['Sex'] = mapped_sex\n",
    "bashkatova.head(5)"
   ]
  },
  {
   "cell_type": "markdown",
   "id": "fa453561-81c3-46f0-8eb3-0dc299a72d2f",
   "metadata": {},
   "source": [
    "Преобразовываем значения поля Embarked в числовые значения."
   ]
  },
  {
   "cell_type": "code",
   "execution_count": 18,
   "id": "83d62f39-68c6-41da-8c12-1d9743a26ef4",
   "metadata": {},
   "outputs": [
    {
     "data": {
      "text/html": [
       "<div>\n",
       "<style scoped>\n",
       "    .dataframe tbody tr th:only-of-type {\n",
       "        vertical-align: middle;\n",
       "    }\n",
       "\n",
       "    .dataframe tbody tr th {\n",
       "        vertical-align: top;\n",
       "    }\n",
       "\n",
       "    .dataframe thead th {\n",
       "        text-align: right;\n",
       "    }\n",
       "</style>\n",
       "<table border=\"1\" class=\"dataframe\">\n",
       "  <thead>\n",
       "    <tr style=\"text-align: right;\">\n",
       "      <th></th>\n",
       "      <th>PassengerId</th>\n",
       "      <th>Survived</th>\n",
       "      <th>Pclass</th>\n",
       "      <th>Name</th>\n",
       "      <th>Sex</th>\n",
       "      <th>Age</th>\n",
       "      <th>SibSp</th>\n",
       "      <th>Parch</th>\n",
       "      <th>Ticket</th>\n",
       "      <th>Fare</th>\n",
       "      <th>Cabin</th>\n",
       "      <th>Embarked</th>\n",
       "    </tr>\n",
       "  </thead>\n",
       "  <tbody>\n",
       "    <tr>\n",
       "      <th>0</th>\n",
       "      <td>1</td>\n",
       "      <td>0</td>\n",
       "      <td>3</td>\n",
       "      <td>Braund, Mr. Owen Harris</td>\n",
       "      <td>1</td>\n",
       "      <td>22.0</td>\n",
       "      <td>1</td>\n",
       "      <td>0</td>\n",
       "      <td>A/5 21171</td>\n",
       "      <td>7.2500</td>\n",
       "      <td>NaN</td>\n",
       "      <td>2</td>\n",
       "    </tr>\n",
       "    <tr>\n",
       "      <th>1</th>\n",
       "      <td>2</td>\n",
       "      <td>1</td>\n",
       "      <td>1</td>\n",
       "      <td>Cumings, Mrs. John Bradley (Florence Briggs Th...</td>\n",
       "      <td>0</td>\n",
       "      <td>38.0</td>\n",
       "      <td>1</td>\n",
       "      <td>0</td>\n",
       "      <td>PC 17599</td>\n",
       "      <td>71.2833</td>\n",
       "      <td>C85</td>\n",
       "      <td>0</td>\n",
       "    </tr>\n",
       "    <tr>\n",
       "      <th>2</th>\n",
       "      <td>3</td>\n",
       "      <td>1</td>\n",
       "      <td>3</td>\n",
       "      <td>Heikkinen, Miss. Laina</td>\n",
       "      <td>0</td>\n",
       "      <td>26.0</td>\n",
       "      <td>0</td>\n",
       "      <td>0</td>\n",
       "      <td>STON/O2. 3101282</td>\n",
       "      <td>7.9250</td>\n",
       "      <td>NaN</td>\n",
       "      <td>2</td>\n",
       "    </tr>\n",
       "    <tr>\n",
       "      <th>3</th>\n",
       "      <td>4</td>\n",
       "      <td>1</td>\n",
       "      <td>1</td>\n",
       "      <td>Futrelle, Mrs. Jacques Heath (Lily May Peel)</td>\n",
       "      <td>0</td>\n",
       "      <td>35.0</td>\n",
       "      <td>1</td>\n",
       "      <td>0</td>\n",
       "      <td>113803</td>\n",
       "      <td>53.1000</td>\n",
       "      <td>C123</td>\n",
       "      <td>2</td>\n",
       "    </tr>\n",
       "    <tr>\n",
       "      <th>4</th>\n",
       "      <td>5</td>\n",
       "      <td>0</td>\n",
       "      <td>3</td>\n",
       "      <td>Allen, Mr. William Henry</td>\n",
       "      <td>1</td>\n",
       "      <td>35.0</td>\n",
       "      <td>0</td>\n",
       "      <td>0</td>\n",
       "      <td>373450</td>\n",
       "      <td>8.0500</td>\n",
       "      <td>NaN</td>\n",
       "      <td>2</td>\n",
       "    </tr>\n",
       "  </tbody>\n",
       "</table>\n",
       "</div>"
      ],
      "text/plain": [
       "   PassengerId  Survived  Pclass  \\\n",
       "0            1         0       3   \n",
       "1            2         1       1   \n",
       "2            3         1       3   \n",
       "3            4         1       1   \n",
       "4            5         0       3   \n",
       "\n",
       "                                                Name  Sex   Age  SibSp  Parch  \\\n",
       "0                            Braund, Mr. Owen Harris    1  22.0      1      0   \n",
       "1  Cumings, Mrs. John Bradley (Florence Briggs Th...    0  38.0      1      0   \n",
       "2                             Heikkinen, Miss. Laina    0  26.0      0      0   \n",
       "3       Futrelle, Mrs. Jacques Heath (Lily May Peel)    0  35.0      1      0   \n",
       "4                           Allen, Mr. William Henry    1  35.0      0      0   \n",
       "\n",
       "             Ticket     Fare Cabin  Embarked  \n",
       "0         A/5 21171   7.2500   NaN         2  \n",
       "1          PC 17599  71.2833   C85         0  \n",
       "2  STON/O2. 3101282   7.9250   NaN         2  \n",
       "3            113803  53.1000  C123         2  \n",
       "4            373450   8.0500   NaN         2  "
      ]
     },
     "execution_count": 18,
     "metadata": {},
     "output_type": "execute_result"
    }
   ],
   "source": [
    "bashkatova['Embarked'] = la.fit_transform(bashkatova['Embarked'])\n",
    "bashkatova.head(5)"
   ]
  },
  {
   "cell_type": "markdown",
   "id": "f62a45d1-4703-4b23-b7ad-fceef712ed4a",
   "metadata": {
    "jp-MarkdownHeadingCollapsed": true,
    "tags": []
   },
   "source": [
    "### 3. Удаляем индекс пассажира, номер билета и имя пассажира, т.к. это просто справочная информация, а по полю номер билета очень много пропущенной информации."
   ]
  },
  {
   "cell_type": "code",
   "execution_count": 19,
   "id": "69bde038-71ae-4976-941d-5822c6c71714",
   "metadata": {},
   "outputs": [
    {
     "data": {
      "text/html": [
       "<div>\n",
       "<style scoped>\n",
       "    .dataframe tbody tr th:only-of-type {\n",
       "        vertical-align: middle;\n",
       "    }\n",
       "\n",
       "    .dataframe tbody tr th {\n",
       "        vertical-align: top;\n",
       "    }\n",
       "\n",
       "    .dataframe thead th {\n",
       "        text-align: right;\n",
       "    }\n",
       "</style>\n",
       "<table border=\"1\" class=\"dataframe\">\n",
       "  <thead>\n",
       "    <tr style=\"text-align: right;\">\n",
       "      <th></th>\n",
       "      <th>Survived</th>\n",
       "      <th>Pclass</th>\n",
       "      <th>Sex</th>\n",
       "      <th>Age</th>\n",
       "      <th>SibSp</th>\n",
       "      <th>Parch</th>\n",
       "      <th>Fare</th>\n",
       "      <th>Embarked</th>\n",
       "    </tr>\n",
       "  </thead>\n",
       "  <tbody>\n",
       "    <tr>\n",
       "      <th>0</th>\n",
       "      <td>0</td>\n",
       "      <td>3</td>\n",
       "      <td>1</td>\n",
       "      <td>22.0</td>\n",
       "      <td>1</td>\n",
       "      <td>0</td>\n",
       "      <td>7.2500</td>\n",
       "      <td>2</td>\n",
       "    </tr>\n",
       "    <tr>\n",
       "      <th>1</th>\n",
       "      <td>1</td>\n",
       "      <td>1</td>\n",
       "      <td>0</td>\n",
       "      <td>38.0</td>\n",
       "      <td>1</td>\n",
       "      <td>0</td>\n",
       "      <td>71.2833</td>\n",
       "      <td>0</td>\n",
       "    </tr>\n",
       "    <tr>\n",
       "      <th>2</th>\n",
       "      <td>1</td>\n",
       "      <td>3</td>\n",
       "      <td>0</td>\n",
       "      <td>26.0</td>\n",
       "      <td>0</td>\n",
       "      <td>0</td>\n",
       "      <td>7.9250</td>\n",
       "      <td>2</td>\n",
       "    </tr>\n",
       "    <tr>\n",
       "      <th>3</th>\n",
       "      <td>1</td>\n",
       "      <td>1</td>\n",
       "      <td>0</td>\n",
       "      <td>35.0</td>\n",
       "      <td>1</td>\n",
       "      <td>0</td>\n",
       "      <td>53.1000</td>\n",
       "      <td>2</td>\n",
       "    </tr>\n",
       "    <tr>\n",
       "      <th>4</th>\n",
       "      <td>0</td>\n",
       "      <td>3</td>\n",
       "      <td>1</td>\n",
       "      <td>35.0</td>\n",
       "      <td>0</td>\n",
       "      <td>0</td>\n",
       "      <td>8.0500</td>\n",
       "      <td>2</td>\n",
       "    </tr>\n",
       "    <tr>\n",
       "      <th>5</th>\n",
       "      <td>0</td>\n",
       "      <td>3</td>\n",
       "      <td>1</td>\n",
       "      <td>28.0</td>\n",
       "      <td>0</td>\n",
       "      <td>0</td>\n",
       "      <td>8.4583</td>\n",
       "      <td>1</td>\n",
       "    </tr>\n",
       "    <tr>\n",
       "      <th>6</th>\n",
       "      <td>0</td>\n",
       "      <td>1</td>\n",
       "      <td>1</td>\n",
       "      <td>54.0</td>\n",
       "      <td>0</td>\n",
       "      <td>0</td>\n",
       "      <td>51.8625</td>\n",
       "      <td>2</td>\n",
       "    </tr>\n",
       "    <tr>\n",
       "      <th>7</th>\n",
       "      <td>0</td>\n",
       "      <td>3</td>\n",
       "      <td>1</td>\n",
       "      <td>2.0</td>\n",
       "      <td>3</td>\n",
       "      <td>1</td>\n",
       "      <td>21.0750</td>\n",
       "      <td>2</td>\n",
       "    </tr>\n",
       "  </tbody>\n",
       "</table>\n",
       "</div>"
      ],
      "text/plain": [
       "   Survived  Pclass  Sex   Age  SibSp  Parch     Fare  Embarked\n",
       "0         0       3    1  22.0      1      0   7.2500         2\n",
       "1         1       1    0  38.0      1      0  71.2833         0\n",
       "2         1       3    0  26.0      0      0   7.9250         2\n",
       "3         1       1    0  35.0      1      0  53.1000         2\n",
       "4         0       3    1  35.0      0      0   8.0500         2\n",
       "5         0       3    1  28.0      0      0   8.4583         1\n",
       "6         0       1    1  54.0      0      0  51.8625         2\n",
       "7         0       3    1   2.0      3      1  21.0750         2"
      ]
     },
     "execution_count": 19,
     "metadata": {},
     "output_type": "execute_result"
    }
   ],
   "source": [
    "bashkatova = bashkatova.drop(['PassengerId', 'Name','Ticket','Cabin'], axis=1)\n",
    "bashkatova.head(8)"
   ]
  },
  {
   "cell_type": "markdown",
   "id": "5fd8f9e2-c2a6-4942-9e5b-75ccabd6d5bc",
   "metadata": {
    "jp-MarkdownHeadingCollapsed": true,
    "tags": []
   },
   "source": [
    "### 4. Преобразуем поле Survived в массив ответов ytall, затем удалим это поле из таблицы и полученную таблицу преобразуем в массив независимых показателей."
   ]
  },
  {
   "cell_type": "code",
   "execution_count": 20,
   "id": "df64c63f-2c41-462a-b451-6c5c1f81438c",
   "metadata": {},
   "outputs": [],
   "source": [
    "clDrop = 'Survived'\n",
    "ytall = bashkatova[clDrop].values\n",
    "bashkatova.drop(clDrop, axis=1, inplace=True)\n",
    "xtall = bashkatova.values"
   ]
  },
  {
   "cell_type": "markdown",
   "id": "f494074e-c848-46f7-9123-dddde984465d",
   "metadata": {
    "jp-MarkdownHeadingCollapsed": true,
    "tags": []
   },
   "source": [
    "### 5. Полученный массив разбиваем на обучающие и тестовые. <br> *25%* последних записей используем как тестовую выборку."
   ]
  },
  {
   "cell_type": "code",
   "execution_count": 21,
   "id": "cfbf7247-ff8a-4f93-bdc6-244727c3eec5",
   "metadata": {},
   "outputs": [
    {
     "name": "stdout",
     "output_type": "stream",
     "text": [
      "891 669 222\n"
     ]
    }
   ],
   "source": [
    "Mtest=int(len(bashkatova)/4)\n",
    "Mtrain= int(len(bashkatova)-Mtest)\n",
    "print(len(bashkatova), Mtrain, Mtest)"
   ]
  },
  {
   "cell_type": "markdown",
   "id": "0dce217f-2f2e-402c-a082-ecea5db77bbb",
   "metadata": {},
   "source": [
    "Создаем массив индексов для тестовой (ttest) и обучающей (ttrain) выборок с помощью функции arange библиотеки numpy и распечатываем их."
   ]
  },
  {
   "cell_type": "code",
   "execution_count": 22,
   "id": "b085098a-c366-4fcc-8fae-b4189146cf10",
   "metadata": {},
   "outputs": [
    {
     "name": "stdout",
     "output_type": "stream",
     "text": [
      "[  0   1   2   3   4   5   6   7   8   9  10  11  12  13  14  15  16  17\n",
      "  18  19  20  21  22  23  24  25  26  27  28  29  30  31  32  33  34  35\n",
      "  36  37  38  39  40  41  42  43  44  45  46  47  48  49  50  51  52  53\n",
      "  54  55  56  57  58  59  60  61  62  63  64  65  66  67  68  69  70  71\n",
      "  72  73  74  75  76  77  78  79  80  81  82  83  84  85  86  87  88  89\n",
      "  90  91  92  93  94  95  96  97  98  99 100 101 102 103 104 105 106 107\n",
      " 108 109 110 111 112 113 114 115 116 117 118 119 120 121 122 123 124 125\n",
      " 126 127 128 129 130 131 132 133 134 135 136 137 138 139 140 141 142 143\n",
      " 144 145 146 147 148 149 150 151 152 153 154 155 156 157 158 159 160 161\n",
      " 162 163 164 165 166 167 168 169 170 171 172 173 174 175 176 177 178 179\n",
      " 180 181 182 183 184 185 186 187 188 189 190 191 192 193 194 195 196 197\n",
      " 198 199 200 201 202 203 204 205 206 207 208 209 210 211 212 213 214 215\n",
      " 216 217 218 219 220 221 222 223 224 225 226 227 228 229 230 231 232 233\n",
      " 234 235 236 237 238 239 240 241 242 243 244 245 246 247 248 249 250 251\n",
      " 252 253 254 255 256 257 258 259 260 261 262 263 264 265 266 267 268 269\n",
      " 270 271 272 273 274 275 276 277 278 279 280 281 282 283 284 285 286 287\n",
      " 288 289 290 291 292 293 294 295 296 297 298 299 300 301 302 303 304 305\n",
      " 306 307 308 309 310 311 312 313 314 315 316 317 318 319 320 321 322 323\n",
      " 324 325 326 327 328 329 330 331 332 333 334 335 336 337 338 339 340 341\n",
      " 342 343 344 345 346 347 348 349 350 351 352 353 354 355 356 357 358 359\n",
      " 360 361 362 363 364 365 366 367 368 369 370 371 372 373 374 375 376 377\n",
      " 378 379 380 381 382 383 384 385 386 387 388 389 390 391 392 393 394 395\n",
      " 396 397 398 399 400 401 402 403 404 405 406 407 408 409 410 411 412 413\n",
      " 414 415 416 417 418 419 420 421 422 423 424 425 426 427 428 429 430 431\n",
      " 432 433 434 435 436 437 438 439 440 441 442 443 444 445 446 447 448 449\n",
      " 450 451 452 453 454 455 456 457 458 459 460 461 462 463 464 465 466 467\n",
      " 468 469 470 471 472 473 474 475 476 477 478 479 480 481 482 483 484 485\n",
      " 486 487 488 489 490 491 492 493 494 495 496 497 498 499 500 501 502 503\n",
      " 504 505 506 507 508 509 510 511 512 513 514 515 516 517 518 519 520 521\n",
      " 522 523 524 525 526 527 528 529 530 531 532 533 534 535 536 537 538 539\n",
      " 540 541 542 543 544 545 546 547 548 549 550 551 552 553 554 555 556 557\n",
      " 558 559 560 561 562 563 564 565 566 567 568 569 570 571 572 573 574 575\n",
      " 576 577 578 579 580 581 582 583 584 585 586 587 588 589 590 591 592 593\n",
      " 594 595 596 597 598 599 600 601 602 603 604 605 606 607 608 609 610 611\n",
      " 612 613 614 615 616 617 618 619 620 621 622 623 624 625 626 627 628 629\n",
      " 630 631 632 633 634 635 636 637 638 639 640 641 642 643 644 645 646 647\n",
      " 648 649 650 651 652 653 654 655 656 657 658 659 660 661 662 663 664 665\n",
      " 666 667 668]\n",
      "[669 670 671 672 673 674 675 676 677 678 679 680 681 682 683 684 685 686\n",
      " 687 688 689 690 691 692 693 694 695 696 697 698 699 700 701 702 703 704\n",
      " 705 706 707 708 709 710 711 712 713 714 715 716 717 718 719 720 721 722\n",
      " 723 724 725 726 727 728 729 730 731 732 733 734 735 736 737 738 739 740\n",
      " 741 742 743 744 745 746 747 748 749 750 751 752 753 754 755 756 757 758\n",
      " 759 760 761 762 763 764 765 766 767 768 769 770 771 772 773 774 775 776\n",
      " 777 778 779 780 781 782 783 784 785 786 787 788 789 790 791 792 793 794\n",
      " 795 796 797 798 799 800 801 802 803 804 805 806 807 808 809 810 811 812\n",
      " 813 814 815 816 817 818 819 820 821 822 823 824 825 826 827 828 829 830\n",
      " 831 832 833 834 835 836 837 838 839 840 841 842 843 844 845 846 847 848\n",
      " 849 850 851 852 853 854 855 856 857 858 859 860 861 862 863 864 865 866\n",
      " 867 868 869 870 871 872 873 874 875 876 877 878 879 880 881 882 883 884\n",
      " 885 886 887 888 889 890]\n"
     ]
    }
   ],
   "source": [
    "ttrain = np.arange(Mtrain)\n",
    "ttest = np.arange(Mtest) + Mtrain \n",
    "print(ttrain)\n",
    "print(ttest)"
   ]
  },
  {
   "cell_type": "markdown",
   "id": "a9b9f77b-8d6c-4057-83b0-fc00112d10df",
   "metadata": {},
   "source": [
    "Индексы тестовой выборк"
   ]
  },
  {
   "cell_type": "code",
   "execution_count": 23,
   "id": "ade0e9c6-a883-44fc-b842-e2d7c867e326",
   "metadata": {},
   "outputs": [
    {
     "name": "stdout",
     "output_type": "stream",
     "text": [
      "[1 1 0 0 1 0 0 0 1 0 1 0 1 0 0 0 0 0 0 0 1 1 1 1 0 0 0 0 1 0 0 1 1 0 0 0 0\n",
      " 1 1 1 1 1 0 1 0 0 0 1 1 0 0 1 0 0 0 1 0 1 1 0 0 1 0 0 0 0 0 0 1 0 0 1 0 1\n",
      " 0 1 0 0 1 0 0 1 1 0 0 1 1 0 0 0 1 0 0 1 1 0 1 0 0 0 0 0 0 0 0 1 0 0 1 0 1\n",
      " 1 1 0 0 0 0 1 0 1 0 0 0 0 0 0 0 1 1 0 0 0 1 1 1 1 0 0 0 0 1 0 0 0 0 0 0 0\n",
      " 0 0 0 1 1 0 1 0 0 0 1 1 1 1 1 0 0 0 1 0 0 1 1 0 0 1 0 0 0 0 0 0 1 0 0 0 1\n",
      " 0 1 1 1 1 0 0 0 1 0 0 1 1 0 0 1 0 1 0 0 1 1 0 0 0 1 1 0 0 0 0 0 0 1 0 1 0]\n"
     ]
    }
   ],
   "source": [
    "print(ytall[ttest])"
   ]
  },
  {
   "cell_type": "markdown",
   "id": "ec8a82c3-5251-4aa4-bd75-31c9eba9c135",
   "metadata": {
    "jp-MarkdownHeadingCollapsed": true,
    "tags": []
   },
   "source": [
    "### 6. После обработки данных приступаем к построению модели"
   ]
  },
  {
   "cell_type": "markdown",
   "id": "8a499603-856f-4776-9331-27ea1e9b95fb",
   "metadata": {},
   "source": [
    "Обучать модель будем на обучающей выборке, после чего проверим ее на тестовой выборке/"
   ]
  },
  {
   "cell_type": "markdown",
   "id": "42615a4a-19e7-4a86-a81a-18873077a06d",
   "metadata": {},
   "source": [
    "Загружаем необходимые библиотеки"
   ]
  },
  {
   "cell_type": "code",
   "execution_count": 24,
   "id": "46a090c7-cef0-4c39-bc7c-400a208ed4ae",
   "metadata": {},
   "outputs": [],
   "source": [
    "from sklearn.metrics import roc_auc_score, accuracy_score, roc_curve\n",
    "from sklearn import tree"
   ]
  },
  {
   "cell_type": "markdown",
   "id": "f950282e-7d6c-4850-a8c2-79ca4c94ec17",
   "metadata": {
    "jp-MarkdownHeadingCollapsed": true,
    "tags": []
   },
   "source": [
    "### 7. Построение модели прогноза вероятности спасения пассажиров "
   ]
  },
  {
   "cell_type": "markdown",
   "id": "e50e7164-9702-4eec-a25e-5e569b82f908",
   "metadata": {},
   "source": [
    "Для обучения будем использовать метод fit(). В качестве аргументов используем массив независимых показателей xtall[ttrain] и ответы ytall[ttrain] обучающей выборки"
   ]
  },
  {
   "cell_type": "code",
   "execution_count": 25,
   "id": "23f9f59e-3f05-4db0-8a0d-38d5cc04fffb",
   "metadata": {},
   "outputs": [],
   "source": [
    "dtc = tree.DecisionTreeClassifier(max_depth = 8, max_features = 7) \n",
    "dtc = dtc.fit(xtall[ttrain], ytall[ttrain])"
   ]
  },
  {
   "cell_type": "markdown",
   "id": "515e0dea-c071-429d-a543-6f41f08f74a5",
   "metadata": {},
   "source": [
    "После обучение выполним прогнозирование как на тестовой так и на обучающей выборке, используя функцию predict_proba(). Функция predict_proba() возвращает вероятности принадлежности объектов к классу. После это оценим точность прогноза с помощью функции score()."
   ]
  },
  {
   "cell_type": "code",
   "execution_count": 26,
   "id": "0054d74f-4664-40c0-aba6-467204e616ef",
   "metadata": {},
   "outputs": [
    {
     "name": "stdout",
     "output_type": "stream",
     "text": [
      "DesicionTree i_fold = Точность обучения 0.9133034379671151 Точность тестовая 0.8063063063063063\n"
     ]
    }
   ],
   "source": [
    "ytrainDtc = dtc.predict_proba(xtall[ttrain])\n",
    "ytestDtc = dtc.predict_proba(xtall[ttest])\n",
    "\n",
    "sc0 = dtc.score(xtall[ttrain], ytall[ttrain])\n",
    "sc1 = dtc.score(xtall[ttest], ytall[ttest])\n",
    "\n",
    "print(\"DesicionTree\", \"i_fold =\", \"Точность обучения\", sc0, \"Точность тестовая\", sc1)"
   ]
  },
  {
   "cell_type": "markdown",
   "id": "8d5970fe-ab33-4988-86b8-f17f12550bbd",
   "metadata": {
    "jp-MarkdownHeadingCollapsed": true,
    "tags": []
   },
   "source": [
    "### 8. Распечатаем результаты прогноза, полученные на тестовой выборке. Вероятности принадлежности пассажиров к классам для тестовой выборки"
   ]
  },
  {
   "cell_type": "code",
   "execution_count": 27,
   "id": "c5e04d99-9a93-4bae-8f5f-7395632fdb33",
   "metadata": {},
   "outputs": [
    {
     "name": "stdout",
     "output_type": "stream",
     "text": [
      "Пассажир  669 Вероятности  [0. 1.] Правильный ответ  1\n",
      "Пассажир  670 Вероятности  [0. 1.] Правильный ответ  1\n",
      "Пассажир  671 Вероятности  [0.65957447 0.34042553] Правильный ответ  0\n",
      "Пассажир  672 Вероятности  [0.8 0.2] Правильный ответ  0\n",
      "Пассажир  673 Вероятности  [0.90243902 0.09756098] Правильный ответ  1\n",
      "Пассажир  674 Вероятности  [1. 0.] Правильный ответ  0\n",
      "Пассажир  675 Вероятности  [1. 0.] Правильный ответ  0\n",
      "Пассажир  676 Вероятности  [0.90243902 0.09756098] Правильный ответ  0\n",
      "Пассажир  677 Вероятности  [1. 0.] Правильный ответ  1\n",
      "Пассажир  678 Вероятности  [1. 0.] Правильный ответ  0\n",
      "Пассажир  679 Вероятности  [1. 0.] Правильный ответ  1\n",
      "Пассажир  680 Вероятности  [0.13043478 0.86956522] Правильный ответ  0\n",
      "Пассажир  681 Вероятности  [0.65957447 0.34042553] Правильный ответ  1\n",
      "Пассажир  682 Вероятности  [0.90243902 0.09756098] Правильный ответ  0\n",
      "Пассажир  683 Вероятности  [1. 0.] Правильный ответ  0\n",
      "Пассажир  684 Вероятности  [1. 0.] Правильный ответ  0\n",
      "Пассажир  685 Вероятности  [0. 1.] Правильный ответ  0\n",
      "Пассажир  686 Вероятности  [1. 0.] Правильный ответ  0\n",
      "Пассажир  687 Вероятности  [0.90243902 0.09756098] Правильный ответ  0\n",
      "Пассажир  688 Вероятности  [0.66666667 0.33333333] Правильный ответ  0\n",
      "Пассажир  689 Вероятности  [0. 1.] Правильный ответ  1\n",
      "Пассажир  690 Вероятности  [0.65957447 0.34042553] Правильный ответ  1\n",
      "Пассажир  691 Вероятности  [1. 0.] Правильный ответ  1\n",
      "Пассажир  692 Вероятности  [0.90243902 0.09756098] Правильный ответ  1\n",
      "Пассажир  693 Вероятности  [0. 1.] Правильный ответ  0\n",
      "Пассажир  694 Вероятности  [1. 0.] Правильный ответ  0\n",
      "Пассажир  695 Вероятности  [0.8 0.2] Правильный ответ  0\n",
      "Пассажир  696 Вероятности  [0.8 0.2] Правильный ответ  0\n",
      "Пассажир  697 Вероятности  [0.13043478 0.86956522] Правильный ответ  1\n",
      "Пассажир  698 Вероятности  [0. 1.] Правильный ответ  0\n",
      "Пассажир  699 Вероятности  [1. 0.] Правильный ответ  0\n",
      "Пассажир  700 Вероятности  [0. 1.] Правильный ответ  1\n",
      "Пассажир  701 Вероятности  [0.11111111 0.88888889] Правильный ответ  1\n",
      "Пассажир  702 Вероятности  [1. 0.] Правильный ответ  0\n",
      "Пассажир  703 Вероятности  [1. 0.] Правильный ответ  0\n",
      "Пассажир  704 Вероятности  [0.90243902 0.09756098] Правильный ответ  0\n",
      "Пассажир  705 Вероятности  [0.8 0.2] Правильный ответ  0\n",
      "Пассажир  706 Вероятности  [0. 1.] Правильный ответ  1\n",
      "Пассажир  707 Вероятности  [0.11111111 0.88888889] Правильный ответ  1\n",
      "Пассажир  708 Вероятности  [1. 0.] Правильный ответ  1\n",
      "Пассажир  709 Вероятности  [0. 1.] Правильный ответ  1\n",
      "Пассажир  710 Вероятности  [0. 1.] Правильный ответ  1\n",
      "Пассажир  711 Вероятности  [0.11111111 0.88888889] Правильный ответ  0\n",
      "Пассажир  712 Вероятности  [0.65957447 0.34042553] Правильный ответ  1\n",
      "Пассажир  713 Вероятности  [0.90243902 0.09756098] Правильный ответ  0\n",
      "Пассажир  714 Вероятности  [0.8 0.2] Правильный ответ  0\n",
      "Пассажир  715 Вероятности  [1. 0.] Правильный ответ  0\n",
      "Пассажир  716 Вероятности  [0. 1.] Правильный ответ  1\n",
      "Пассажир  717 Вероятности  [1. 0.] Правильный ответ  1\n",
      "Пассажир  718 Вероятности  [0.90243902 0.09756098] Правильный ответ  0\n",
      "Пассажир  719 Вероятности  [1. 0.] Правильный ответ  0\n",
      "Пассажир  720 Вероятности  [0. 1.] Правильный ответ  1\n",
      "Пассажир  721 Вероятности  [1. 0.] Правильный ответ  0\n",
      "Пассажир  722 Вероятности  [0.8 0.2] Правильный ответ  0\n",
      "Пассажир  723 Вероятности  [0.8 0.2] Правильный ответ  0\n",
      "Пассажир  724 Вероятности  [0.65957447 0.34042553] Правильный ответ  1\n",
      "Пассажир  725 Вероятности  [0.90243902 0.09756098] Правильный ответ  0\n",
      "Пассажир  726 Вероятности  [0. 1.] Правильный ответ  1\n",
      "Пассажир  727 Вероятности  [0.13043478 0.86956522] Правильный ответ  1\n",
      "Пассажир  728 Вероятности  [0.90243902 0.09756098] Правильный ответ  0\n",
      "Пассажир  729 Вероятности  [0.09090909 0.90909091] Правильный ответ  0\n",
      "Пассажир  730 Вероятности  [0. 1.] Правильный ответ  1\n",
      "Пассажир  731 Вероятности  [0. 1.] Правильный ответ  0\n",
      "Пассажир  732 Вероятности  [1. 0.] Правильный ответ  0\n",
      "Пассажир  733 Вероятности  [0.90243902 0.09756098] Правильный ответ  0\n",
      "Пассажир  734 Вероятности  [0.90243902 0.09756098] Правильный ответ  0\n",
      "Пассажир  735 Вероятности  [0.90243902 0.09756098] Правильный ответ  0\n",
      "Пассажир  736 Вероятности  [1. 0.] Правильный ответ  0\n",
      "Пассажир  737 Вероятности  [1. 0.] Правильный ответ  1\n",
      "Пассажир  738 Вероятности  [0.90243902 0.09756098] Правильный ответ  0\n",
      "Пассажир  739 Вероятности  [0.90243902 0.09756098] Правильный ответ  0\n",
      "Пассажир  740 Вероятности  [0.65957447 0.34042553] Правильный ответ  1\n",
      "Пассажир  741 Вероятности  [0.65957447 0.34042553] Правильный ответ  0\n",
      "Пассажир  742 Вероятности  [0. 1.] Правильный ответ  1\n",
      "Пассажир  743 Вероятности  [0.90243902 0.09756098] Правильный ответ  0\n",
      "Пассажир  744 Вероятности  [0.90243902 0.09756098] Правильный ответ  1\n",
      "Пассажир  745 Вероятности  [0. 1.] Правильный ответ  0\n",
      "Пассажир  746 Вероятности  [1. 0.] Правильный ответ  0\n",
      "Пассажир  747 Вероятности  [0. 1.] Правильный ответ  1\n",
      "Пассажир  748 Вероятности  [0.65957447 0.34042553] Правильный ответ  0\n",
      "Пассажир  749 Вероятности  [0.75 0.25] Правильный ответ  0\n",
      "Пассажир  750 Вероятности  [0. 1.] Правильный ответ  1\n",
      "Пассажир  751 Вероятности  [0. 1.] Правильный ответ  1\n",
      "Пассажир  752 Вероятности  [0.8 0.2] Правильный ответ  0\n",
      "Пассажир  753 Вероятности  [0.90243902 0.09756098] Правильный ответ  0\n",
      "Пассажир  754 Вероятности  [0. 1.] Правильный ответ  1\n",
      "Пассажир  755 Вероятности  [0. 1.] Правильный ответ  1\n",
      "Пассажир  756 Вероятности  [0.5 0.5] Правильный ответ  0\n",
      "Пассажир  757 Вероятности  [0.90243902 0.09756098] Правильный ответ  0\n",
      "Пассажир  758 Вероятности  [0.8 0.2] Правильный ответ  0\n",
      "Пассажир  759 Вероятности  [0. 1.] Правильный ответ  1\n",
      "Пассажир  760 Вероятности  [0.90243902 0.09756098] Правильный ответ  0\n",
      "Пассажир  761 Вероятности  [1. 0.] Правильный ответ  0\n",
      "Пассажир  762 Вероятности  [1. 0.] Правильный ответ  1\n",
      "Пассажир  763 Вероятности  [0. 1.] Правильный ответ  1\n",
      "Пассажир  764 Вероятности  [1. 0.] Правильный ответ  0\n",
      "Пассажир  765 Вероятности  [0. 1.] Правильный ответ  1\n",
      "Пассажир  766 Вероятности  [0.65957447 0.34042553] Правильный ответ  0\n",
      "Пассажир  767 Вероятности  [0.13043478 0.86956522] Правильный ответ  0\n",
      "Пассажир  768 Вероятности  [0.90243902 0.09756098] Правильный ответ  0\n",
      "Пассажир  769 Вероятности  [0.8 0.2] Правильный ответ  0\n",
      "Пассажир  770 Вероятности  [0.90243902 0.09756098] Правильный ответ  0\n",
      "Пассажир  771 Вероятности  [0.8 0.2] Правильный ответ  0\n",
      "Пассажир  772 Вероятности  [0. 1.] Правильный ответ  0\n",
      "Пассажир  773 Вероятности  [1. 0.] Правильный ответ  0\n",
      "Пассажир  774 Вероятности  [0. 1.] Правильный ответ  1\n",
      "Пассажир  775 Вероятности  [1. 0.] Правильный ответ  0\n",
      "Пассажир  776 Вероятности  [0.9375 0.0625] Правильный ответ  0\n",
      "Пассажир  777 Вероятности  [0. 1.] Правильный ответ  1\n",
      "Пассажир  778 Вероятности  [0.9375 0.0625] Правильный ответ  0\n",
      "Пассажир  779 Вероятности  [0. 1.] Правильный ответ  1\n",
      "Пассажир  780 Вероятности  [0.13043478 0.86956522] Правильный ответ  1\n",
      "Пассажир  781 Вероятности  [0. 1.] Правильный ответ  1\n",
      "Пассажир  782 Вероятности  [0.65957447 0.34042553] Правильный ответ  0\n",
      "Пассажир  783 Вероятности  [1. 0.] Правильный ответ  0\n",
      "Пассажир  784 Вероятности  [0. 1.] Правильный ответ  0\n",
      "Пассажир  785 Вероятности  [0. 1.] Правильный ответ  0\n",
      "Пассажир  786 Вероятности  [0.09090909 0.90909091] Правильный ответ  1\n",
      "Пассажир  787 Вероятности  [1. 0.] Правильный ответ  0\n",
      "Пассажир  788 Вероятности  [0. 1.] Правильный ответ  1\n",
      "Пассажир  789 Вероятности  [0.65957447 0.34042553] Правильный ответ  0\n",
      "Пассажир  790 Вероятности  [0.9375 0.0625] Правильный ответ  0\n",
      "Пассажир  791 Вероятности  [0.90243902 0.09756098] Правильный ответ  0\n",
      "Пассажир  792 Вероятности  [1. 0.] Правильный ответ  0\n",
      "Пассажир  793 Вероятности  [0.65957447 0.34042553] Правильный ответ  0\n",
      "Пассажир  794 Вероятности  [0.90243902 0.09756098] Правильный ответ  0\n",
      "Пассажир  795 Вероятности  [0.8 0.2] Правильный ответ  0\n",
      "Пассажир  796 Вероятности  [0. 1.] Правильный ответ  1\n",
      "Пассажир  797 Вероятности  [1. 0.] Правильный ответ  1\n",
      "Пассажир  798 Вероятности  [0.75 0.25] Правильный ответ  0\n",
      "Пассажир  799 Вероятности  [1. 0.] Правильный ответ  0\n",
      "Пассажир  800 Вероятности  [0.8 0.2] Правильный ответ  0\n",
      "Пассажир  801 Вероятности  [0. 1.] Правильный ответ  1\n",
      "Пассажир  802 Вероятности  [0. 1.] Правильный ответ  1\n",
      "Пассажир  803 Вероятности  [0. 1.] Правильный ответ  1\n",
      "Пассажир  804 Вероятности  [1. 0.] Правильный ответ  1\n",
      "Пассажир  805 Вероятности  [1. 0.] Правильный ответ  0\n",
      "Пассажир  806 Вероятности  [1. 0.] Правильный ответ  0\n",
      "Пассажир  807 Вероятности  [0.09090909 0.90909091] Правильный ответ  0\n",
      "Пассажир  808 Вероятности  [0.8 0.2] Правильный ответ  0\n",
      "Пассажир  809 Вероятности  [0. 1.] Правильный ответ  1\n",
      "Пассажир  810 Вероятности  [0.90243902 0.09756098] Правильный ответ  0\n",
      "Пассажир  811 Вероятности  [0.8 0.2] Правильный ответ  0\n",
      "Пассажир  812 Вероятности  [0.8 0.2] Правильный ответ  0\n",
      "Пассажир  813 Вероятности  [0. 1.] Правильный ответ  0\n",
      "Пассажир  814 Вероятности  [0.90243902 0.09756098] Правильный ответ  0\n",
      "Пассажир  815 Вероятности  [1. 0.] Правильный ответ  0\n",
      "Пассажир  816 Вероятности  [0.09090909 0.90909091] Правильный ответ  0\n",
      "Пассажир  817 Вероятности  [0. 1.] Правильный ответ  0\n",
      "Пассажир  818 Вероятности  [1. 0.] Правильный ответ  0\n",
      "Пассажир  819 Вероятности  [1. 0.] Правильный ответ  0\n",
      "Пассажир  820 Вероятности  [0. 1.] Правильный ответ  1\n",
      "Пассажир  821 Вероятности  [0.90243902 0.09756098] Правильный ответ  1\n",
      "Пассажир  822 Вероятности  [1. 0.] Правильный ответ  0\n",
      "Пассажир  823 Вероятности  [0.25 0.75] Правильный ответ  1\n",
      "Пассажир  824 Вероятности  [1. 0.] Правильный ответ  0\n",
      "Пассажир  825 Вероятности  [1. 0.] Правильный ответ  0\n",
      "Пассажир  826 Вероятности  [0.90243902 0.09756098] Правильный ответ  0\n",
      "Пассажир  827 Вероятности  [0. 1.] Правильный ответ  1\n",
      "Пассажир  828 Вероятности  [0.9375 0.0625] Правильный ответ  1\n",
      "Пассажир  829 Вероятности  [0. 1.] Правильный ответ  1\n",
      "Пассажир  830 Вероятности  [1. 0.] Правильный ответ  1\n",
      "Пассажир  831 Вероятности  [0. 1.] Правильный ответ  1\n",
      "Пассажир  832 Вероятности  [0.9375 0.0625] Правильный ответ  0\n",
      "Пассажир  833 Вероятности  [0.90243902 0.09756098] Правильный ответ  0\n",
      "Пассажир  834 Вероятности  [0.90243902 0.09756098] Правильный ответ  0\n",
      "Пассажир  835 Вероятности  [0. 1.] Правильный ответ  1\n",
      "Пассажир  836 Вероятности  [0.90243902 0.09756098] Правильный ответ  0\n",
      "Пассажир  837 Вероятности  [0.90243902 0.09756098] Правильный ответ  0\n",
      "Пассажир  838 Вероятности  [0.8 0.2] Правильный ответ  1\n",
      "Пассажир  839 Вероятности  [0.65957447 0.34042553] Правильный ответ  1\n",
      "Пассажир  840 Вероятности  [0.90243902 0.09756098] Правильный ответ  0\n",
      "Пассажир  841 Вероятности  [0.90243902 0.09756098] Правильный ответ  0\n",
      "Пассажир  842 Вероятности  [0. 1.] Правильный ответ  1\n",
      "Пассажир  843 Вероятности  [1. 0.] Правильный ответ  0\n",
      "Пассажир  844 Вероятности  [0.90243902 0.09756098] Правильный ответ  0\n",
      "Пассажир  845 Вероятности  [1. 0.] Правильный ответ  0\n",
      "Пассажир  846 Вероятности  [1. 0.] Правильный ответ  0\n",
      "Пассажир  847 Вероятности  [0.75 0.25] Правильный ответ  0\n",
      "Пассажир  848 Вероятности  [1. 0.] Правильный ответ  0\n",
      "Пассажир  849 Вероятности  [0. 1.] Правильный ответ  1\n",
      "Пассажир  850 Вероятности  [1. 0.] Правильный ответ  0\n",
      "Пассажир  851 Вероятности  [1. 0.] Правильный ответ  0\n",
      "Пассажир  852 Вероятности  [1. 0.] Правильный ответ  0\n",
      "Пассажир  853 Вероятности  [0. 1.] Правильный ответ  1\n",
      "Пассажир  854 Вероятности  [0. 1.] Правильный ответ  0\n",
      "Пассажир  855 Вероятности  [1. 0.] Правильный ответ  1\n",
      "Пассажир  856 Вероятности  [0. 1.] Правильный ответ  1\n",
      "Пассажир  857 Вероятности  [0.11111111 0.88888889] Правильный ответ  1\n",
      "Пассажир  858 Вероятности  [0. 1.] Правильный ответ  1\n",
      "Пассажир  859 Вероятности  [0.9375 0.0625] Правильный ответ  0\n",
      "Пассажир  860 Вероятности  [0.8 0.2] Правильный ответ  0\n",
      "Пассажир  861 Вероятности  [0.90243902 0.09756098] Правильный ответ  0\n",
      "Пассажир  862 Вероятности  [0. 1.] Правильный ответ  1\n",
      "Пассажир  863 Вероятности  [1. 0.] Правильный ответ  0\n",
      "Пассажир  864 Вероятности  [0.90243902 0.09756098] Правильный ответ  0\n",
      "Пассажир  865 Вероятности  [0. 1.] Правильный ответ  1\n",
      "Пассажир  866 Вероятности  [1. 0.] Правильный ответ  1\n",
      "Пассажир  867 Вероятности  [0.65957447 0.34042553] Правильный ответ  0\n",
      "Пассажир  868 Вероятности  [0.90243902 0.09756098] Правильный ответ  0\n",
      "Пассажир  869 Вероятности  [0. 1.] Правильный ответ  1\n",
      "Пассажир  870 Вероятности  [0.90243902 0.09756098] Правильный ответ  0\n",
      "Пассажир  871 Вероятности  [0. 1.] Правильный ответ  1\n",
      "Пассажир  872 Вероятности  [1. 0.] Правильный ответ  0\n",
      "Пассажир  873 Вероятности  [0.8 0.2] Правильный ответ  0\n",
      "Пассажир  874 Вероятности  [0. 1.] Правильный ответ  1\n",
      "Пассажир  875 Вероятности  [0.13043478 0.86956522] Правильный ответ  1\n",
      "Пассажир  876 Вероятности  [0.90243902 0.09756098] Правильный ответ  0\n",
      "Пассажир  877 Вероятности  [0.90243902 0.09756098] Правильный ответ  0\n",
      "Пассажир  878 Вероятности  [0.90243902 0.09756098] Правильный ответ  0\n",
      "Пассажир  879 Вероятности  [0. 1.] Правильный ответ  1\n",
      "Пассажир  880 Вероятности  [0.16666667 0.83333333] Правильный ответ  1\n",
      "Пассажир  881 Вероятности  [0.8 0.2] Правильный ответ  0\n",
      "Пассажир  882 Вероятности  [1. 0.] Правильный ответ  0\n",
      "Пассажир  883 Вероятности  [0.90243902 0.09756098] Правильный ответ  0\n",
      "Пассажир  884 Вероятности  [0. 1.] Правильный ответ  0\n",
      "Пассажир  885 Вероятности  [1. 0.] Правильный ответ  0\n",
      "Пассажир  886 Вероятности  [0.90243902 0.09756098] Правильный ответ  0\n",
      "Пассажир  887 Вероятности  [0. 1.] Правильный ответ  1\n",
      "Пассажир  888 Вероятности  [1. 0.] Правильный ответ  0\n",
      "Пассажир  889 Вероятности  [0.65957447 0.34042553] Правильный ответ  1\n",
      "Пассажир  890 Вероятности  [0.75 0.25] Правильный ответ  0\n"
     ]
    }
   ],
   "source": [
    "for i in np.arange(len(ttest)):\n",
    "    it=ttest[i]\n",
    "    print(\"Пассажир \", it, \"Вероятности \", ytestDtc[i], \"Правильный ответ \", ytall[it])"
   ]
  },
  {
   "cell_type": "markdown",
   "id": "13627be7-644c-4da3-9618-942e7756dc2b",
   "metadata": {
    "jp-MarkdownHeadingCollapsed": true,
    "tags": []
   },
   "source": [
    "### 9. Пробуем сами оценить точность решения. \n",
    "Для этого считаем число правильно спрогнозированных пассажиров, которые спаслись и утонули.  Для оценки точности создаем функцию, где в качестве аргументов передаем вероятности прогноза принадлежности пассажира к классу 1 («Утонул») и пороговое значение. Если вероятность прогноза превышает пороговое значение, значит пассажир принадлежит классу 1."
   ]
  },
  {
   "cell_type": "code",
   "execution_count": 28,
   "id": "583a09f2-ed00-413e-866a-898e78825908",
   "metadata": {},
   "outputs": [],
   "source": [
    "def estim(y_prob,y_exact, pr):\n",
    "    kall=y_prob.shape[0]\n",
    "    tp=0\n",
    "    fp=0\n",
    "    tn=0\n",
    "    fn=0\n",
    "    kr=0\n",
    "    for i in np.arange(kall):\n",
    "        if(y_prob[i] > pr):\n",
    "            if(y_exact[i] == 1 ): \n",
    "                tp+=1\n",
    "            else:\n",
    "                fp+=1\n",
    "        else:\n",
    "            if(y_exact[i] == 0 ):\n",
    "                tn+=1\n",
    "            else:\n",
    "                fn+=1\n",
    "        kr=1.*(tp+tn)/kall\n",
    "    kr1=1.*tp/(tp+fp)\n",
    "    kr0=1.*tn/(tn+fn)\n",
    "    rr1=1.*tp/(tp+fn)\n",
    "    rr0=1.*tn/(tn+fp)\n",
    "    print(\"Precission: \", kr0, \"класс 0 спаслись\", tn+fn, \n",
    "          \" Из них правильно спрогнозировано =\", tn, \", ошибочно=\", fn)\n",
    "    print(\"Precission: \", kr1,\"класс 1 утонуло\", tp+tn, \n",
    "          \" Из них правильно спрогнозировано =\", tp, \", ошибочно=\", tn)\n",
    "    print(\"Recall: \", rr0,\"класс 0 спаслись\")\n",
    "    print(\"Recall: \", rr1,\"класс 1 утонуло\")\n",
    "    print(\"Точность распознавания \",kr, \" precission\", \"recall\")\n",
    "    return kr"
   ]
  },
  {
   "cell_type": "markdown",
   "id": "195d6948-8ad5-48cc-a6fd-23d376f1330e",
   "metadata": {},
   "source": [
    "*tn* – число правильно идентифицированных пассажиров, как спасшихся, <br> *fn* – число пассажиров, которые были неправильно идентифицированы, как спасшиеся, <br> *kall* - общее число пассажиров, <br> *tp* – число правильно идентифицированных пассажиров, как утонувшие, <br> *fp* – число пассажиров, которые были неправильно идентифицированы, как утонувшие. <br>  Точность прогноза равна сумме *tp* и *tn*, деленной на общее число пассажиров"
   ]
  },
  {
   "cell_type": "markdown",
   "id": "ce8e2962-d513-4dd3-b780-698623d7b75f",
   "metadata": {
    "jp-MarkdownHeadingCollapsed": true,
    "tags": []
   },
   "source": [
    "### 10. Оцените точность прогноза с помощью функции *estim()*. \n",
    "Для этого используем оператор:"
   ]
  },
  {
   "cell_type": "code",
   "execution_count": 29,
   "id": "afc8af71-78ee-4a91-acb4-d97803292a0b",
   "metadata": {},
   "outputs": [
    {
     "name": "stdout",
     "output_type": "stream",
     "text": [
      "Precission:  0.8299319727891157 класс 0 спаслись 147  Из них правильно спрогнозировано = 122 , ошибочно= 25\n",
      "Precission:  0.76 класс 1 утонуло 179  Из них правильно спрогнозировано = 57 , ошибочно= 122\n",
      "Recall:  0.8714285714285714 класс 0 спаслись\n",
      "Recall:  0.6951219512195121 класс 1 утонуло\n",
      "Точность распознавания  0.8063063063063063  precission recall\n"
     ]
    },
    {
     "data": {
      "text/plain": [
       "0.8063063063063063"
      ]
     },
     "execution_count": 29,
     "metadata": {},
     "output_type": "execute_result"
    }
   ],
   "source": [
    "estim(ytestDtc[:,1], ytall[ttest], 0.5)"
   ]
  },
  {
   "cell_type": "markdown",
   "id": "b3f5a457-1116-454b-a7ac-11a5252e6e3c",
   "metadata": {},
   "source": [
    "*В качестве прогнозных значений передаем второй столбец массива ytestDtc. Пороговое значение равно 0.5\n",
    "Точность распознавания соответствует точности, полученной выше с помощью функции score()* (пункт7)"
   ]
  },
  {
   "cell_type": "markdown",
   "id": "bf918ac3-9581-4afa-ac1e-924469f51595",
   "metadata": {
    "jp-MarkdownHeadingCollapsed": true,
    "tags": []
   },
   "source": [
    "### 11. Библиотеки машинного обучения содержат достаточно много функций позволяющих оценить точность. Одна из них accuracy_score(). \n",
    "Но в этой функции вместо вероятностной оценки нужно использовать бинарную оценку прогнозирования спасения пассажиров. Для этого используем функцию argmax(), которая возвращает индекс элемента массива с максимальным значением.\n"
   ]
  },
  {
   "cell_type": "code",
   "execution_count": 30,
   "id": "128ee45e-c890-4d88-8f56-0f078fe2cba7",
   "metadata": {},
   "outputs": [],
   "source": [
    "pred=[]\n",
    "for x in ytestDtc:\n",
    "    pred.append(np.argmax(x)) "
   ]
  },
  {
   "cell_type": "markdown",
   "id": "c828bd7e-cd61-4f3c-a784-1111d5abe836",
   "metadata": {},
   "source": [
    "Проверим правильность оценки точность прогноза."
   ]
  },
  {
   "cell_type": "code",
   "execution_count": 31,
   "id": "07e2dc7c-8c19-4eb2-bef9-8add60b4ceca",
   "metadata": {},
   "outputs": [
    {
     "name": "stdout",
     "output_type": "stream",
     "text": [
      "Точность (accuracy) 0.8063063063063063\n"
     ]
    }
   ],
   "source": [
    "acc= accuracy_score(ytall[ttest], pred) \n",
    "print(\"Точность (accuracy)\", acc)"
   ]
  },
  {
   "cell_type": "markdown",
   "id": "946dbe74-a087-4d70-a56a-b1a3164f006a",
   "metadata": {
    "jp-MarkdownHeadingCollapsed": true,
    "tags": []
   },
   "source": [
    "### 12. Используем для оценки точности функции classification_report() и confusion_matrix(). \n",
    "Для их использования необходимо сформировать метки классов (массив lab)."
   ]
  },
  {
   "cell_type": "code",
   "execution_count": 32,
   "id": "9552abe6-10b5-402b-a9d1-94ecdec28427",
   "metadata": {},
   "outputs": [
    {
     "name": "stdout",
     "output_type": "stream",
     "text": [
      "              precision    recall  f1-score   support\n",
      "\n",
      "    Спаслись     0.8299    0.8714    0.8502       140\n",
      "     Утонули     0.7600    0.6951    0.7261        82\n",
      "\n",
      "    accuracy                         0.8063       222\n",
      "   macro avg     0.7950    0.7833    0.7881       222\n",
      "weighted avg     0.8041    0.8063    0.8044       222\n",
      "\n",
      "[[122  18]\n",
      " [ 25  57]]\n"
     ]
    }
   ],
   "source": [
    "from sklearn.metrics import classification_report\n",
    "from sklearn.metrics import confusion_matrix\n",
    "nclass = 2\n",
    "lab = [\"Спаслись\", \"Утонули\"]\n",
    "print(classification_report( ytall[ttest], pred, target_names=lab, digits=4))\n",
    "print(confusion_matrix( ytall[ttest] , pred, labels=range(nclass)))"
   ]
  },
  {
   "cell_type": "markdown",
   "id": "d900badf-721e-495d-b6f2-f5ad15a3999d",
   "metadata": {
    "jp-MarkdownHeadingCollapsed": true,
    "tags": []
   },
   "source": [
    "### 13. При конвертации вероятности принадлежности к классу в бинарную метку, выбираем какой-либо порог, при котором 0 становится 1. Естественным и близким кажется порог, равный 0.5, но он может оказаться не оптимальным."
   ]
  },
  {
   "cell_type": "markdown",
   "id": "afc69740-0d43-4038-9513-48f9a3af569e",
   "metadata": {},
   "source": [
    "Одним из способов оценить модель в целом, не привязываясь к конкретному порогу, является метрика AUC-ROC (или ROC AUC), которая представляет площадь под кривой ошибок. Данная кривая представляет из себя \n",
    "линию от (0;0) до (1;1) в координатах True Positive Rate (TPR) и False Positive Rate (FPR). \n",
    "<br> Для построения ROC AUC кривой используйте функцию roc_curve(). У этой функции три обязательных аргумента: массив правильных ответов, массив вероятностей ответов положительного класса и индекс класса положительных примеров. В качестве положительного класса используется 2 \n",
    "класс (индекс равен 1). \n",
    "<br> Функция возвращает три массива:\n",
    "1) массив роста положительных примеров, классифицированные как отрицательные;\n",
    "2) массив роста верно классифицированных положительных примеров (так называемые истинно положительные случаи);\n",
    "3) массив пороговых значений.\n"
   ]
  },
  {
   "cell_type": "code",
   "execution_count": 33,
   "id": "7894a4e4-c018-4698-97af-7ce31e4d8d56",
   "metadata": {},
   "outputs": [
    {
     "data": {
      "image/png": "[encoded data removed]",
      "text/plain": [
       "<Figure size 1200x1000 with 1 Axes>"
      ]
     },
     "metadata": {},
     "output_type": "display_data"
    }
   ],
   "source": [
    "plt.figure(figsize=(12, 10))\n",
    "fpr, tpr, thresholds = roc_curve(ytall[ttest], ytestDtc[:,1], pos_label=1)\n",
    "plt.plot(fpr, tpr)\n",
    "plt.show()"
   ]
  },
  {
   "cell_type": "markdown",
   "id": "15cc9540-5510-4baf-8024-1e49d7aa153a",
   "metadata": {},
   "source": [
    "Для сравнения на рисунке также еще показывают ROC AUC кривую, площадь под кривой которой равна 0.5. Эта кривая представляет прямую линию проходящей по диагонали от точки (0;0) до точки (1;1). Величина ROC AUC метрики, равной 0.5, соответствует точности прогноза методом подбрасывания монетки. \n",
    "<br> Добавим такую прямую линию, кроме того откорректируем максимальные и минимальные значения осей x и y. <br> Подпишем оси: ось x − False Positive Rate и ось y – True Positive Rate."
   ]
  },
  {
   "cell_type": "code",
   "execution_count": 34,
   "id": "6d9f28bc-f0d5-48ee-90c7-0deef5aeb064",
   "metadata": {},
   "outputs": [
    {
     "data": {
      "image/png": "[encoded data removed]",
      "text/plain": [
       "<Figure size 1200x1000 with 1 Axes>"
      ]
     },
     "metadata": {},
     "output_type": "display_data"
    }
   ],
   "source": [
    "plt.figure(figsize=(12, 10))\n",
    "fpr, tpr, thresholds = roc_curve(ytall[ttest], ytestDtc[:,1], pos_label=1)\n",
    "lw = 2\n",
    "plt.plot(fpr, tpr, lw=lw, label='ROC curve ')\n",
    "plt.plot([0, 1], [0, 1])\n",
    "plt.xlim([0.0, 1.0])\n",
    "plt.ylim([0.0, 1.05])\n",
    "plt.xlabel('False Positive Rate')\n",
    "plt.ylabel('True Positive Rate')\n",
    "plt.title('ROC curve')\n",
    "plt.show()"
   ]
  },
  {
   "cell_type": "markdown",
   "id": "33aa4358-abbd-4b0e-a7ee-005a0bd633a7",
   "metadata": {
    "jp-MarkdownHeadingCollapsed": true,
    "tags": []
   },
   "source": [
    "### 14. Для вычисления площади под кривой будем использовать функцию roc_auc_score()."
   ]
  },
  {
   "cell_type": "code",
   "execution_count": 35,
   "id": "b4f88eb3-dbb0-4ba4-9c4a-a53241829e1e",
   "metadata": {},
   "outputs": [
    {
     "name": "stdout",
     "output_type": "stream",
     "text": [
      "roc-auc 0.7872822299651567\n"
     ]
    }
   ],
   "source": [
    "roc= roc_auc_score(ytall[ttest], ytestDtc[:,1]) \n",
    "print(\"roc-auc\", roc) "
   ]
  },
  {
   "cell_type": "markdown",
   "id": "902403d5-a398-425a-ab8e-5fce05064bd2",
   "metadata": {},
   "source": [
    "Вместо вероятностной оценки можно использовать бинарную оценку прогнозирования спасения пассажиров. Для этого вычисляем бинарную оценку прогнозирования на основе вероятностной оценки. Используем функцию argmax(), которая возвращает индекс элемента массива с максимальным значением."
   ]
  },
  {
   "cell_type": "code",
   "execution_count": 36,
   "id": "e6f734e4-6776-427e-962e-0233038f9244",
   "metadata": {},
   "outputs": [
    {
     "name": "stdout",
     "output_type": "stream",
     "text": [
      "Mean Score\n",
      "index 1 x [0. 1.]\n",
      "index 1 x [0. 1.]\n",
      "index 0 x [0.65957447 0.34042553]\n",
      "index 0 x [0.8 0.2]\n",
      "index 0 x [0.90243902 0.09756098]\n",
      "index 0 x [1. 0.]\n",
      "index 0 x [1. 0.]\n",
      "index 0 x [0.90243902 0.09756098]\n",
      "index 0 x [1. 0.]\n",
      "index 0 x [1. 0.]\n",
      "index 0 x [1. 0.]\n",
      "index 1 x [0.13043478 0.86956522]\n",
      "index 0 x [0.65957447 0.34042553]\n",
      "index 0 x [0.90243902 0.09756098]\n",
      "index 0 x [1. 0.]\n",
      "index 0 x [1. 0.]\n",
      "index 1 x [0. 1.]\n",
      "index 0 x [1. 0.]\n",
      "index 0 x [0.90243902 0.09756098]\n",
      "index 0 x [0.66666667 0.33333333]\n",
      "index 1 x [0. 1.]\n",
      "index 0 x [0.65957447 0.34042553]\n",
      "index 0 x [1. 0.]\n",
      "index 0 x [0.90243902 0.09756098]\n",
      "index 1 x [0. 1.]\n",
      "index 0 x [1. 0.]\n",
      "index 0 x [0.8 0.2]\n",
      "index 0 x [0.8 0.2]\n",
      "index 1 x [0.13043478 0.86956522]\n",
      "index 1 x [0. 1.]\n",
      "index 0 x [1. 0.]\n",
      "index 1 x [0. 1.]\n",
      "index 1 x [0.11111111 0.88888889]\n",
      "index 0 x [1. 0.]\n",
      "index 0 x [1. 0.]\n",
      "index 0 x [0.90243902 0.09756098]\n",
      "index 0 x [0.8 0.2]\n",
      "index 1 x [0. 1.]\n",
      "index 1 x [0.11111111 0.88888889]\n",
      "index 0 x [1. 0.]\n",
      "index 1 x [0. 1.]\n",
      "index 1 x [0. 1.]\n",
      "index 1 x [0.11111111 0.88888889]\n",
      "index 0 x [0.65957447 0.34042553]\n",
      "index 0 x [0.90243902 0.09756098]\n",
      "index 0 x [0.8 0.2]\n",
      "index 0 x [1. 0.]\n",
      "index 1 x [0. 1.]\n",
      "index 0 x [1. 0.]\n",
      "index 0 x [0.90243902 0.09756098]\n",
      "index 0 x [1. 0.]\n",
      "index 1 x [0. 1.]\n",
      "index 0 x [1. 0.]\n",
      "index 0 x [0.8 0.2]\n",
      "index 0 x [0.8 0.2]\n",
      "index 0 x [0.65957447 0.34042553]\n",
      "index 0 x [0.90243902 0.09756098]\n",
      "index 1 x [0. 1.]\n",
      "index 1 x [0.13043478 0.86956522]\n",
      "index 0 x [0.90243902 0.09756098]\n",
      "index 1 x [0.09090909 0.90909091]\n",
      "index 1 x [0. 1.]\n",
      "index 1 x [0. 1.]\n",
      "index 0 x [1. 0.]\n",
      "index 0 x [0.90243902 0.09756098]\n",
      "index 0 x [0.90243902 0.09756098]\n",
      "index 0 x [0.90243902 0.09756098]\n",
      "index 0 x [1. 0.]\n",
      "index 0 x [1. 0.]\n",
      "index 0 x [0.90243902 0.09756098]\n",
      "index 0 x [0.90243902 0.09756098]\n",
      "index 0 x [0.65957447 0.34042553]\n",
      "index 0 x [0.65957447 0.34042553]\n",
      "index 1 x [0. 1.]\n",
      "index 0 x [0.90243902 0.09756098]\n",
      "index 0 x [0.90243902 0.09756098]\n",
      "index 1 x [0. 1.]\n",
      "index 0 x [1. 0.]\n",
      "index 1 x [0. 1.]\n",
      "index 0 x [0.65957447 0.34042553]\n",
      "index 0 x [0.75 0.25]\n",
      "index 1 x [0. 1.]\n",
      "index 1 x [0. 1.]\n",
      "index 0 x [0.8 0.2]\n",
      "index 0 x [0.90243902 0.09756098]\n",
      "index 1 x [0. 1.]\n",
      "index 1 x [0. 1.]\n",
      "index 0 x [0.5 0.5]\n",
      "index 0 x [0.90243902 0.09756098]\n",
      "index 0 x [0.8 0.2]\n",
      "index 1 x [0. 1.]\n",
      "index 0 x [0.90243902 0.09756098]\n",
      "index 0 x [1. 0.]\n",
      "index 0 x [1. 0.]\n",
      "index 1 x [0. 1.]\n",
      "index 0 x [1. 0.]\n",
      "index 1 x [0. 1.]\n",
      "index 0 x [0.65957447 0.34042553]\n",
      "index 1 x [0.13043478 0.86956522]\n",
      "index 0 x [0.90243902 0.09756098]\n",
      "index 0 x [0.8 0.2]\n",
      "index 0 x [0.90243902 0.09756098]\n",
      "index 0 x [0.8 0.2]\n",
      "index 1 x [0. 1.]\n",
      "index 0 x [1. 0.]\n",
      "index 1 x [0. 1.]\n",
      "index 0 x [1. 0.]\n",
      "index 0 x [0.9375 0.0625]\n",
      "index 1 x [0. 1.]\n",
      "index 0 x [0.9375 0.0625]\n",
      "index 1 x [0. 1.]\n",
      "index 1 x [0.13043478 0.86956522]\n",
      "index 1 x [0. 1.]\n",
      "index 0 x [0.65957447 0.34042553]\n",
      "index 0 x [1. 0.]\n",
      "index 1 x [0. 1.]\n",
      "index 1 x [0. 1.]\n",
      "index 1 x [0.09090909 0.90909091]\n",
      "index 0 x [1. 0.]\n",
      "index 1 x [0. 1.]\n",
      "index 0 x [0.65957447 0.34042553]\n",
      "index 0 x [0.9375 0.0625]\n",
      "index 0 x [0.90243902 0.09756098]\n",
      "index 0 x [1. 0.]\n",
      "index 0 x [0.65957447 0.34042553]\n",
      "index 0 x [0.90243902 0.09756098]\n",
      "index 0 x [0.8 0.2]\n",
      "index 1 x [0. 1.]\n",
      "index 0 x [1. 0.]\n",
      "index 0 x [0.75 0.25]\n",
      "index 0 x [1. 0.]\n",
      "index 0 x [0.8 0.2]\n",
      "index 1 x [0. 1.]\n",
      "index 1 x [0. 1.]\n",
      "index 1 x [0. 1.]\n",
      "index 0 x [1. 0.]\n",
      "index 0 x [1. 0.]\n",
      "index 0 x [1. 0.]\n",
      "index 1 x [0.09090909 0.90909091]\n",
      "index 0 x [0.8 0.2]\n",
      "index 1 x [0. 1.]\n",
      "index 0 x [0.90243902 0.09756098]\n",
      "index 0 x [0.8 0.2]\n",
      "index 0 x [0.8 0.2]\n",
      "index 1 x [0. 1.]\n",
      "index 0 x [0.90243902 0.09756098]\n",
      "index 0 x [1. 0.]\n",
      "index 1 x [0.09090909 0.90909091]\n",
      "index 1 x [0. 1.]\n",
      "index 0 x [1. 0.]\n",
      "index 0 x [1. 0.]\n",
      "index 1 x [0. 1.]\n",
      "index 0 x [0.90243902 0.09756098]\n",
      "index 0 x [1. 0.]\n",
      "index 1 x [0.25 0.75]\n",
      "index 0 x [1. 0.]\n",
      "index 0 x [1. 0.]\n",
      "index 0 x [0.90243902 0.09756098]\n",
      "index 1 x [0. 1.]\n",
      "index 0 x [0.9375 0.0625]\n",
      "index 1 x [0. 1.]\n",
      "index 0 x [1. 0.]\n",
      "index 1 x [0. 1.]\n",
      "index 0 x [0.9375 0.0625]\n",
      "index 0 x [0.90243902 0.09756098]\n",
      "index 0 x [0.90243902 0.09756098]\n",
      "index 1 x [0. 1.]\n",
      "index 0 x [0.90243902 0.09756098]\n",
      "index 0 x [0.90243902 0.09756098]\n",
      "index 0 x [0.8 0.2]\n",
      "index 0 x [0.65957447 0.34042553]\n",
      "index 0 x [0.90243902 0.09756098]\n",
      "index 0 x [0.90243902 0.09756098]\n",
      "index 1 x [0. 1.]\n",
      "index 0 x [1. 0.]\n",
      "index 0 x [0.90243902 0.09756098]\n",
      "index 0 x [1. 0.]\n",
      "index 0 x [1. 0.]\n",
      "index 0 x [0.75 0.25]\n",
      "index 0 x [1. 0.]\n",
      "index 1 x [0. 1.]\n",
      "index 0 x [1. 0.]\n",
      "index 0 x [1. 0.]\n",
      "index 0 x [1. 0.]\n",
      "index 1 x [0. 1.]\n",
      "index 1 x [0. 1.]\n",
      "index 0 x [1. 0.]\n",
      "index 1 x [0. 1.]\n",
      "index 1 x [0.11111111 0.88888889]\n",
      "index 1 x [0. 1.]\n",
      "index 0 x [0.9375 0.0625]\n",
      "index 0 x [0.8 0.2]\n",
      "index 0 x [0.90243902 0.09756098]\n",
      "index 1 x [0. 1.]\n",
      "index 0 x [1. 0.]\n",
      "index 0 x [0.90243902 0.09756098]\n",
      "index 1 x [0. 1.]\n",
      "index 0 x [1. 0.]\n",
      "index 0 x [0.65957447 0.34042553]\n",
      "index 0 x [0.90243902 0.09756098]\n",
      "index 1 x [0. 1.]\n",
      "index 0 x [0.90243902 0.09756098]\n",
      "index 1 x [0. 1.]\n",
      "index 0 x [1. 0.]\n",
      "index 0 x [0.8 0.2]\n",
      "index 1 x [0. 1.]\n",
      "index 1 x [0.13043478 0.86956522]\n",
      "index 0 x [0.90243902 0.09756098]\n",
      "index 0 x [0.90243902 0.09756098]\n",
      "index 0 x [0.90243902 0.09756098]\n",
      "index 1 x [0. 1.]\n",
      "index 1 x [0.16666667 0.83333333]\n",
      "index 0 x [0.8 0.2]\n",
      "index 0 x [1. 0.]\n",
      "index 0 x [0.90243902 0.09756098]\n",
      "index 1 x [0. 1.]\n",
      "index 0 x [1. 0.]\n",
      "index 0 x [0.90243902 0.09756098]\n",
      "index 1 x [0. 1.]\n",
      "index 0 x [1. 0.]\n",
      "index 0 x [0.65957447 0.34042553]\n",
      "index 0 x [0.75 0.25]\n"
     ]
    }
   ],
   "source": [
    "print(\"Mean Score\") \n",
    "pred = []\n",
    "for x in ytestDtc:\n",
    "    ind=np.argmax(x)\n",
    "    print(\"index\", ind, \"x\", x)\n",
    "    pred.append(ind)"
   ]
  },
  {
   "cell_type": "markdown",
   "id": "b458abee-d938-4e04-b477-df14dac3c696",
   "metadata": {},
   "source": [
    "После этого снова вычислим кривую"
   ]
  },
  {
   "cell_type": "code",
   "execution_count": 37,
   "id": "4ee8a89b-5f5d-4ce0-b8a5-2ed0973af280",
   "metadata": {},
   "outputs": [
    {
     "data": {
      "image/png": "[encoded data removed]",
      "text/plain": [
       "<Figure size 1200x1000 with 1 Axes>"
      ]
     },
     "metadata": {},
     "output_type": "display_data"
    },
    {
     "name": "stdout",
     "output_type": "stream",
     "text": [
      "roc-auc 0.7832752613240418\n"
     ]
    }
   ],
   "source": [
    "plt.figure(figsize=(12, 10))\n",
    "fpr, tpr, thresholds = roc_curve(ytall[ttest], pred, pos_label=1)\n",
    "plt.plot(fpr, tpr, lw=2, label='ROC curve ')\n",
    "plt.plot([0, 1], [0, 1])\n",
    "plt.xlim([0.0, 1.0])\n",
    "plt.ylim([0.0, 1.05])\n",
    "plt.xlabel('False Positive Rate')\n",
    "plt.ylabel('True Positive Rate')\n",
    "plt.title('ROC curve')\n",
    "plt.show()\n",
    "roc= roc_auc_score(ytall[ttest],pred) \n",
    "print(\"roc-auc\", roc)"
   ]
  },
  {
   "cell_type": "markdown",
   "id": "5728c5b9-3e76-4cab-92c0-28d03d094653",
   "metadata": {},
   "source": [
    "ROC AUC кривая отличается от кривой, полученной с помощью вероятностной оценке"
   ]
  },
  {
   "cell_type": "markdown",
   "id": "a35d4cde-55f0-4acb-bcfd-b433bdafdb85",
   "metadata": {},
   "source": [
    "После этого определим метрику ROC AUC"
   ]
  },
  {
   "cell_type": "code",
   "execution_count": 38,
   "id": "56c5ccb4-a4ff-4bdb-b3ff-d7d91f131400",
   "metadata": {},
   "outputs": [
    {
     "name": "stdout",
     "output_type": "stream",
     "text": [
      "roc-auc 0.7832752613240418\n"
     ]
    }
   ],
   "source": [
    "roc= roc_auc_score(ytall[ttest],pred) \n",
    "print(\"roc-auc\", roc)"
   ]
  },
  {
   "cell_type": "markdown",
   "id": "c746b413-4e3d-4baf-b8e2-28a30a579c26",
   "metadata": {},
   "source": [
    "Таким образом, вероятностная оценка дает более высокие значения метрики ROC AUC, нежели бинарная."
   ]
  },
  {
   "cell_type": "markdown",
   "id": "a17e318d-546b-4cb5-a11a-caace84aabc7",
   "metadata": {
    "jp-MarkdownHeadingCollapsed": true,
    "tags": []
   },
   "source": [
    "### 15. У классификатора *DecisionTreeClassifier* важными аргументами являются *max_depth* (максимальная глубина дерева) и *max_features* (максимальное число признаков)\n",
    "\n",
    "Выбираем оптимальные значения для задачи - используем циклы, внутри которых строим модель с разной глубиной и разным числом признаков. После обучения вычисляем точность прогноза на обучающей выборке и точность прогноза на тестовой выборке 3."
   ]
  },
  {
   "cell_type": "code",
   "execution_count": 39,
   "id": "86eb33c3-8ad0-4f2e-9313-b52b8916c36a",
   "metadata": {},
   "outputs": [
    {
     "name": "stdout",
     "output_type": "stream",
     "text": [
      "DesicionTree max_depth 1 max_features 1  Точность обучения 0.6113602391629297  Точность тестовая 0.6306306306306306\n",
      "DesicionTree max_depth 2 max_features 1  Точность обучения 0.6860986547085202  Точность тестовая 0.7522522522522522\n",
      "DesicionTree max_depth 3 max_features 1  Точность обучения 0.7982062780269058  Точность тестовая 0.8063063063063063\n",
      "DesicionTree max_depth 4 max_features 1  Точность обучения 0.7802690582959642  Точность тестовая 0.7882882882882883\n",
      "DesicionTree max_depth 5 max_features 1  Точность обучения 0.7802690582959642  Точность тестовая 0.7972972972972973\n",
      "DesicionTree max_depth 6 max_features 1  Точность обучения 0.757847533632287  Точность тестовая 0.7297297297297297\n",
      "DesicionTree max_depth 7 max_features 1  Точность обучения 0.8221225710014948  Точность тестовая 0.7747747747747747\n",
      "DesicionTree max_depth 8 max_features 1  Точность обучения 0.8071748878923767  Точность тестовая 0.7882882882882883\n",
      "DesicionTree max_depth 9 max_features 1  Точность обучения 0.8998505231689088  Точность тестовая 0.7657657657657657\n",
      "DesicionTree max_depth 10 max_features 1  Точность обучения 0.898355754857997  Точность тестовая 0.7792792792792793\n",
      "DesicionTree max_depth 11 max_features 1  Точность обучения 0.9103139013452914  Точность тестовая 0.6846846846846847\n",
      "DesicionTree max_depth 1 max_features 2  Точность обучения 0.6606875934230194  Точность тестовая 0.6891891891891891\n",
      "DesicionTree max_depth 2 max_features 2  Точность обучения 0.7862481315396114  Точность тестовая 0.7882882882882883\n",
      "DesicionTree max_depth 3 max_features 2  Точность обучения 0.8011958146487295  Точность тестовая 0.7972972972972973\n",
      "DesicionTree max_depth 4 max_features 2  Точность обучения 0.8236173393124065  Точность тестовая 0.8423423423423423\n",
      "DesicionTree max_depth 5 max_features 2  Точность обучения 0.8086696562032885  Точность тестовая 0.8018018018018018\n",
      "DesicionTree max_depth 6 max_features 2  Точность обучения 0.8415545590433483  Точность тестовая 0.8423423423423423\n",
      "DesicionTree max_depth 7 max_features 2  Точность обучения 0.8385650224215246  Точность тестовая 0.8423423423423423\n",
      "DesicionTree max_depth 8 max_features 2  Точность обучения 0.9028400597907325  Точность тестовая 0.8243243243243243\n",
      "DesicionTree max_depth 9 max_features 2  Точность обучения 0.8998505231689088  Точность тестовая 0.7972972972972973\n",
      "DesicionTree max_depth 10 max_features 2  Точность обучения 0.9192825112107623  Точность тестовая 0.8198198198198198\n",
      "DesicionTree max_depth 11 max_features 2  Точность обучения 0.9357249626307922  Точность тестовая 0.7702702702702703\n",
      "DesicionTree max_depth 1 max_features 3  Точность обучения 0.6113602391629297  Точность тестовая 0.6306306306306306\n",
      "DesicionTree max_depth 2 max_features 3  Точность обучения 0.7862481315396114  Точность тестовая 0.7882882882882883\n",
      "DesicionTree max_depth 3 max_features 3  Точность обучения 0.796711509715994  Точность тестовая 0.8198198198198198\n",
      "DesicionTree max_depth 4 max_features 3  Точность обучения 0.820627802690583  Точность тестовая 0.8243243243243243\n",
      "DesicionTree max_depth 5 max_features 3  Точность обучения 0.8415545590433483  Точность тестовая 0.8513513513513513\n",
      "DesicionTree max_depth 6 max_features 3  Точность обучения 0.8116591928251121  Точность тестовая 0.7522522522522522\n",
      "DesicionTree max_depth 7 max_features 3  Точность обучения 0.8819133034379671  Точность тестовая 0.8378378378378378\n",
      "DesicionTree max_depth 8 max_features 3  Точность обучения 0.9103139013452914  Точность тестовая 0.8198198198198198\n",
      "DesicionTree max_depth 9 max_features 3  Точность обучения 0.8923766816143498  Точность тестовая 0.7927927927927928\n",
      "DesicionTree max_depth 10 max_features 3  Точность обучения 0.9252615844544095  Точность тестовая 0.8198198198198198\n",
      "DesicionTree max_depth 11 max_features 3  Точность обучения 0.9431988041853513  Точность тестовая 0.7567567567567568\n",
      "DesicionTree max_depth 1 max_features 4  Точность обучения 0.7862481315396114  Точность тестовая 0.7882882882882883\n",
      "DesicionTree max_depth 2 max_features 4  Точность обучения 0.7892376681614349  Точность тестовая 0.8018018018018018\n",
      "DesicionTree max_depth 3 max_features 4  Точность обучения 0.8295964125560538  Точность тестовая 0.8423423423423423\n",
      "DesicionTree max_depth 4 max_features 4  Точность обучения 0.8295964125560538  Точность тестовая 0.8243243243243243\n",
      "DesicionTree max_depth 5 max_features 4  Точность обучения 0.8430493273542601  Точность тестовая 0.8243243243243243\n",
      "DesicionTree max_depth 6 max_features 4  Точность обучения 0.8385650224215246  Точность тестовая 0.8333333333333334\n",
      "DesicionTree max_depth 7 max_features 4  Точность обучения 0.8819133034379671  Точность тестовая 0.8243243243243243\n",
      "DesicionTree max_depth 8 max_features 4  Точность обучения 0.8834080717488789  Точность тестовая 0.7837837837837838\n",
      "DesicionTree max_depth 9 max_features 4  Точность обучения 0.9118086696562033  Точность тестовая 0.8198198198198198\n",
      "DesicionTree max_depth 10 max_features 4  Точность обучения 0.9103139013452914  Точность тестовая 0.7837837837837838\n",
      "DesicionTree max_depth 11 max_features 4  Точность обучения 0.9267563527653214  Точность тестовая 0.8288288288288288\n",
      "DesicionTree max_depth 1 max_features 5  Точность обучения 0.7862481315396114  Точность тестовая 0.7882882882882883\n",
      "DesicionTree max_depth 2 max_features 5  Точность обучения 0.7892376681614349  Точность тестовая 0.8018018018018018\n",
      "DesicionTree max_depth 3 max_features 5  Точность обучения 0.7997010463378177  Точность тестовая 0.8153153153153153\n",
      "DesicionTree max_depth 4 max_features 5  Точность обучения 0.8325859491778774  Точность тестовая 0.8243243243243243\n",
      "DesicionTree max_depth 5 max_features 5  Точность обучения 0.8370702541106129  Точность тестовая 0.8288288288288288\n",
      "DesicionTree max_depth 6 max_features 5  Точность обучения 0.8609865470852018  Точность тестовая 0.8468468468468469\n",
      "DesicionTree max_depth 7 max_features 5  Точность обучения 0.8699551569506726  Точность тестовая 0.8333333333333334\n",
      "DesicionTree max_depth 8 max_features 5  Точность обучения 0.9088191330343797  Точность тестовая 0.8423423423423423\n",
      "DesicionTree max_depth 9 max_features 5  Точность обучения 0.9147982062780269  Точность тестовая 0.8018018018018018\n",
      "DesicionTree max_depth 10 max_features 5  Точность обучения 0.9402092675635276  Точность тестовая 0.8018018018018018\n",
      "DesicionTree max_depth 11 max_features 5  Точность обучения 0.9372197309417041  Точность тестовая 0.8153153153153153\n",
      "DesicionTree max_depth 1 max_features 6  Точность обучения 0.7862481315396114  Точность тестовая 0.7882882882882883\n",
      "DesicionTree max_depth 2 max_features 6  Точность обучения 0.6651718983557549  Точность тестовая 0.6756756756756757\n",
      "DesicionTree max_depth 3 max_features 6  Точность обучения 0.8236173393124065  Точность тестовая 0.8468468468468469\n",
      "DesicionTree max_depth 4 max_features 6  Точность обучения 0.8355754857997011  Точность тестовая 0.8423423423423423\n",
      "DesicionTree max_depth 5 max_features 6  Точность обучения 0.8400597907324364  Точность тестовая 0.8558558558558559\n",
      "DesicionTree max_depth 6 max_features 6  Точность обучения 0.8714499252615845  Точность тестовая 0.8333333333333334\n",
      "DesicionTree max_depth 7 max_features 6  Точность обучения 0.898355754857997  Точность тестовая 0.8423423423423423\n",
      "DesicionTree max_depth 8 max_features 6  Точность обучения 0.9133034379671151  Точность тестовая 0.8378378378378378\n",
      "DesicionTree max_depth 9 max_features 6  Точность обучения 0.9252615844544095  Точность тестовая 0.8063063063063063\n",
      "DesicionTree max_depth 10 max_features 6  Точность обучения 0.929745889387145  Точность тестовая 0.8243243243243243\n",
      "DesicionTree max_depth 11 max_features 6  Точность обучения 0.9372197309417041  Точность тестовая 0.8198198198198198\n",
      "DesicionTree max_depth 1 max_features 7  Точность обучения 0.7862481315396114  Точность тестовая 0.7882882882882883\n",
      "DesicionTree max_depth 2 max_features 7  Точность обучения 0.7892376681614349  Точность тестовая 0.8018018018018018\n",
      "DesicionTree max_depth 3 max_features 7  Точность обучения 0.8295964125560538  Точность тестовая 0.8423423423423423\n",
      "DesicionTree max_depth 4 max_features 7  Точность обучения 0.8340807174887892  Точность тестовая 0.8468468468468469\n",
      "DesicionTree max_depth 5 max_features 7  Точность обучения 0.8460388639760837  Точность тестовая 0.8558558558558559\n",
      "DesicionTree max_depth 6 max_features 7  Точность обучения 0.8714499252615845  Точность тестовая 0.8288288288288288\n",
      "DesicionTree max_depth 7 max_features 7  Точность обучения 0.8953662182361734  Точность тестовая 0.7927927927927928\n",
      "DesicionTree max_depth 8 max_features 7  Точность обучения 0.9147982062780269  Точность тестовая 0.7972972972972973\n",
      "DesicionTree max_depth 9 max_features 7  Точность обучения 0.922272047832586  Точность тестовая 0.7927927927927928\n",
      "DesicionTree max_depth 10 max_features 7  Точность обучения 0.9327354260089686  Точность тестовая 0.7792792792792793\n",
      "DesicionTree max_depth 11 max_features 7  Точность обучения 0.9417040358744395  Точность тестовая 0.7792792792792793\n"
     ]
    }
   ],
   "source": [
    "gr=np.arange(1,8,1)\n",
    "gr1=np.arange(1,12,1)\n",
    "for i in gr:\n",
    "    for j in gr1:\n",
    "        dtc = tree.DecisionTreeClassifier(max_depth =j,max_features =i) #, min_samples_leaf =1)\n",
    "        dtc=dtc.fit(xtall[ttrain], ytall[ttrain])\n",
    "        ytrainDtc = dtc.predict_proba(xtall[ttrain])\n",
    "        ytestDtc = dtc.predict_proba(xtall[ttest])\n",
    "        sc0= dtc.score(xtall[ttrain], ytall[ttrain])\n",
    "        sc1= dtc.score(xtall[ttest], ytall[ttest])\n",
    "        print(\"DesicionTree max_depth\", j, \"max_features\", i, \n",
    "              \" Точность обучения\", sc0, \" Точность тестовая\", sc1)"
   ]
  },
  {
   "cell_type": "markdown",
   "id": "b1db038d-220f-417f-ae85-1085841d6a3f",
   "metadata": {
    "jp-MarkdownHeadingCollapsed": true,
    "tags": []
   },
   "source": [
    "### 16. Далее строим графики изменения точности на обучающей и тестовой выборке в зависимости от максимальной глубины дерева. снова используем цикл для перебора значений, max_features принимается равным 7"
   ]
  },
  {
   "cell_type": "code",
   "execution_count": 40,
   "id": "9f4db9a5-6229-428a-a6fb-0078c798a5c5",
   "metadata": {},
   "outputs": [
    {
     "name": "stdout",
     "output_type": "stream",
     "text": [
      "DesicionTree max_depth 1  Точность обучения 0.7862481315396114  Точность тестовая 0.7882882882882883\n",
      "DesicionTree max_depth 2  Точность обучения 0.7892376681614349  Точность тестовая 0.8018018018018018\n",
      "DesicionTree max_depth 3  Точность обучения 0.8295964125560538  Точность тестовая 0.8423423423423423\n",
      "DesicionTree max_depth 4  Точность обучения 0.8340807174887892  Точность тестовая 0.8468468468468469\n",
      "DesicionTree max_depth 5  Точность обучения 0.8460388639760837  Точность тестовая 0.8558558558558559\n",
      "DesicionTree max_depth 6  Точность обучения 0.8714499252615845  Точность тестовая 0.8333333333333334\n",
      "DesicionTree max_depth 7  Точность обучения 0.8953662182361734  Точность тестовая 0.7927927927927928\n",
      "DesicionTree max_depth 8  Точность обучения 0.9147982062780269  Точность тестовая 0.7972972972972973\n",
      "DesicionTree max_depth 9  Точность обучения 0.9237668161434978  Точность тестовая 0.7837837837837838\n",
      "DesicionTree max_depth 10  Точность обучения 0.9327354260089686  Точность тестовая 0.7747747747747747\n",
      "DesicionTree max_depth 11  Точность обучения 0.9417040358744395  Точность тестовая 0.7882882882882883\n"
     ]
    }
   ],
   "source": [
    "scTs=[]\n",
    "scTr=[]\n",
    "gr=np.arange(1,12,1)\n",
    "for i in gr:\n",
    "    dtc = tree.DecisionTreeClassifier(max_depth =i,max_features = 7)\n",
    "    dtc=dtc.fit(xtall[ttrain], ytall[ttrain])\n",
    "    ytrainDtc = dtc.predict_proba(xtall[ttrain])\n",
    "    ytestDtc = dtc.predict_proba(xtall[ttest])\n",
    "    sc0= dtc.score(xtall[ttrain], ytall[ttrain])\n",
    "    sc1= dtc.score(xtall[ttest], ytall[ttest])\n",
    "    scTs.append(sc1)\n",
    "    scTr.append(sc0)\n",
    "    print(\"DesicionTree max_depth\", i, \" Точность обучения\", sc0, \n",
    "          \" Точность тестовая\", sc1)\n"
   ]
  },
  {
   "cell_type": "markdown",
   "id": "c84aa829-6695-451f-b9f9-b7be72f76823",
   "metadata": {},
   "source": [
    "Далее полученные зависимости scTs и scTr отображаем графически"
   ]
  },
  {
   "cell_type": "code",
   "execution_count": 41,
   "id": "65be91f5-eead-4393-ac2a-dc648a710d15",
   "metadata": {},
   "outputs": [
    {
     "data": {
      "image/png": "[encoded data removed]",
      "text/plain": [
       "<Figure size 1600x1000 with 1 Axes>"
      ]
     },
     "metadata": {},
     "output_type": "display_data"
    }
   ],
   "source": [
    "plt.figure( figsize=(16,10))\n",
    "plt.plot(gr, scTr, label=\"Точность на обучающей выборке\")\n",
    "plt.plot(gr, scTs,label=\"Точность на тестовой выборке\")\n",
    "plt.xlabel('Максимальная глубина', fontsize=18)\n",
    "plt.ylabel('Точность', fontsize=18)\n",
    "plt.legend(fontsize=18)\n",
    "plt.rc('xtick', labelsize=18) \n",
    "plt.rc('ytick', labelsize=18) \n",
    "plt.savefig(\"DT_scor.jpg\", dpi=400)\n",
    "plt.show()"
   ]
  },
  {
   "cell_type": "markdown",
   "id": "ee076601-0b21-4f03-ac2c-6cb65288a000",
   "metadata": {},
   "source": [
    "Как видно из рисунка точность прогнозирования на тестовой выборке падает после того как максимальная глубина дерева превысило значение 5. По сути начиная с максимальной глубины равной 6 мы получаем переобученные модели."
   ]
  },
  {
   "cell_type": "markdown",
   "id": "36cb3529-ff93-44c0-951b-f4016f3f672b",
   "metadata": {
    "jp-MarkdownHeadingCollapsed": true,
    "tags": []
   },
   "source": [
    "### 17. Крос-валидация является более эффективным способом оценки качества моделей. \n",
    "\n",
    "Для создания фолдов (подвыборок) используется класс KFold. В качестве аргументов задается длина исходной выборки, n_folds – количество фолдов, shuffle – логический параметр (если он равен True, то данные \n",
    "перед разбиением перемешиваются), random_state – псевдо случайное число, которое используется для сдвига в генераторе случайных чисел. Генератор случайных чисел используется, если shuffle равно True. Выполяем\n",
    "разбиение нашей выборки на 5 фолдов."
   ]
  },
  {
   "cell_type": "code",
   "execution_count": 42,
   "id": "24c9988b-6303-46ae-9d9b-f0cef1cc71f4",
   "metadata": {},
   "outputs": [
    {
     "name": "stdout",
     "output_type": "stream",
     "text": [
      "Requirement already satisfied: scikit-learn in c:\\users\\bashk\\appdata\\roaming\\python\\python310\\site-packages (1.3.1)\n",
      "Requirement already satisfied: numpy<2.0,>=1.17.3 in c:\\users\\bashk\\anaconda3\\lib\\site-packages (from scikit-learn) (1.23.5)\n",
      "Requirement already satisfied: joblib>=1.1.1 in c:\\users\\bashk\\anaconda3\\lib\\site-packages (from scikit-learn) (1.1.1)\n",
      "Requirement already satisfied: threadpoolctl>=2.0.0 in c:\\users\\bashk\\anaconda3\\lib\\site-packages (from scikit-learn) (2.2.0)\n",
      "Requirement already satisfied: scipy>=1.5.0 in c:\\users\\bashk\\anaconda3\\lib\\site-packages (from scikit-learn) (1.10.0)\n"
     ]
    }
   ],
   "source": [
    "!pip install --upgrade --user scikit-learn"
   ]
  },
  {
   "cell_type": "code",
   "execution_count": 43,
   "id": "a91b2e0d-ef74-4e87-93c6-13c1e072725d",
   "metadata": {},
   "outputs": [],
   "source": [
    "from sklearn.model_selection import KFold\n",
    "import numpy as np\n",
    "\n",
    "ntrain = bashkatova.shape[0]\n",
    "SEED = 111123435 # for reproducibility\n",
    "NFOLDS = 5 # set folds for out-of-fold prediction\n",
    "kf = KFold(n_splits=NFOLDS, random_state=SEED, shuffle=True)"
   ]
  },
  {
   "cell_type": "markdown",
   "id": "db1e1663-ca85-43b3-8fe1-187c87dffd6c",
   "metadata": {
    "jp-MarkdownHeadingCollapsed": true,
    "tags": []
   },
   "source": [
    "### 18. Выполним поиска оптимальных параметров.\n",
    "<br>Для этого используем циклы с перебором параметров max_depth (от 1до 11) и max_features (от 1 \n",
    "до 7). В теле этого двойного цикла вложим цикл перебора фолдов, нидексы которых берем из объекта kf. Результаты прогноза сохраняем в массиве pred_test, который создается перед циклом методом np.zeros(). Данный метод создает двумерный нулевой массив с указанными размерами. В результате в процессе работы для каждого обучающего фолда, создается модель, которая проверяется на тестовом фолде. Результаты прогноза сохраняются \n",
    "в массиве pred_test. После завершения цикла мы имеем массив с тестовыми прогнозами, поэтому мы можем вычислить метрику ROC AUC. Все эти вычисления повторяются ждя каждой комбинации i, j. Наилучшие (с точки зрения метрики ROC AUC) значения i, j сохраняются"
   ]
  },
  {
   "cell_type": "code",
   "execution_count": 44,
   "id": "f3ea2af4-3c60-4ccd-876b-e2832c0fab79",
   "metadata": {},
   "outputs": [
    {
     "name": "stdout",
     "output_type": "stream",
     "text": [
      "DesicionTree: max_depth 1 max_features 1  Точность ROC AUC 0.5585514332278785\n",
      "DesicionTree: max_depth 2 max_features 1  Точность ROC AUC 0.6965482163210089\n",
      "DesicionTree: max_depth 3 max_features 1  Точность ROC AUC 0.7723186229082116\n",
      "DesicionTree: max_depth 4 max_features 1  Точность ROC AUC 0.8010284515173788\n",
      "DesicionTree: max_depth 5 max_features 1  Точность ROC AUC 0.7953882124862856\n",
      "DesicionTree: max_depth 6 max_features 1  Точность ROC AUC 0.7991723388617262\n",
      "DesicionTree: max_depth 7 max_features 1  Точность ROC AUC 0.8087990924487904\n",
      "DesicionTree: max_depth 8 max_features 1  Точность ROC AUC 0.7782784222243526\n",
      "DesicionTree: max_depth 9 max_features 1  Точность ROC AUC 0.7654933478200662\n",
      "DesicionTree: max_depth 10 max_features 1  Точность ROC AUC 0.7600741379861311\n",
      "DesicionTree: max_depth 11 max_features 1  Точность ROC AUC 0.7551555725987708\n",
      "DesicionTree: max_depth 1 max_features 2  Точность ROC AUC 0.7114051065733551\n",
      "DesicionTree: max_depth 2 max_features 2  Точность ROC AUC 0.7527535444561617\n",
      "DesicionTree: max_depth 3 max_features 2  Точность ROC AUC 0.8036941168951524\n",
      "DesicionTree: max_depth 4 max_features 2  Точность ROC AUC 0.820415108810277\n",
      "DesicionTree: max_depth 5 max_features 2  Точность ROC AUC 0.815725561627201\n",
      "DesicionTree: max_depth 6 max_features 2  Точность ROC AUC 0.8325184546064615\n",
      "DesicionTree: max_depth 7 max_features 2  Точность ROC AUC 0.8243084182831091\n",
      "DesicionTree: max_depth 8 max_features 2  Точность ROC AUC 0.8013639898166789\n",
      "DesicionTree: max_depth 9 max_features 2  Точность ROC AUC 0.806040221987878\n",
      "DesicionTree: max_depth 10 max_features 2  Точность ROC AUC 0.7840544743765911\n",
      "DesicionTree: max_depth 11 max_features 2  Точность ROC AUC 0.7784914624143846\n",
      "DesicionTree: max_depth 1 max_features 3  Точность ROC AUC 0.6735398757975692\n",
      "DesicionTree: max_depth 2 max_features 3  Точность ROC AUC 0.7750748303667487\n",
      "DesicionTree: max_depth 3 max_features 3  Точность ROC AUC 0.8387072721268866\n",
      "DesicionTree: max_depth 4 max_features 3  Точность ROC AUC 0.8362706249533973\n",
      "DesicionTree: max_depth 5 max_features 3  Точность ROC AUC 0.8405740367920408\n",
      "DesicionTree: max_depth 6 max_features 3  Точность ROC AUC 0.8474259419039402\n",
      "DesicionTree: max_depth 7 max_features 3  Точность ROC AUC 0.8213897676796728\n",
      "DesicionTree: max_depth 8 max_features 3  Точность ROC AUC 0.8166096784158332\n",
      "DesicionTree: max_depth 9 max_features 3  Точность ROC AUC 0.8210622183874987\n",
      "DesicionTree: max_depth 10 max_features 3  Точность ROC AUC 0.7871648611510561\n",
      "DesicionTree: max_depth 11 max_features 3  Точность ROC AUC 0.7879158278209184\n",
      "DesicionTree: max_depth 1 max_features 4  Точность ROC AUC 0.7504527104038177\n",
      "DesicionTree: max_depth 2 max_features 4  Точность ROC AUC 0.7912605588044185\n",
      "DesicionTree: max_depth 3 max_features 4  Точность ROC AUC 0.8125965338361082\n",
      "DesicionTree: max_depth 4 max_features 4  Точность ROC AUC 0.8389762353668019\n",
      "DesicionTree: max_depth 5 max_features 4  Точность ROC AUC 0.832662256734733\n",
      "DesicionTree: max_depth 6 max_features 4  Точность ROC AUC 0.8229849061025363\n",
      "DesicionTree: max_depth 7 max_features 4  Точность ROC AUC 0.8183832379978483\n",
      "DesicionTree: max_depth 8 max_features 4  Точность ROC AUC 0.8116911130284727\n",
      "DesicionTree: max_depth 9 max_features 4  Точность ROC AUC 0.8002854738546427\n",
      "DesicionTree: max_depth 10 max_features 4  Точность ROC AUC 0.7962883072891701\n",
      "DesicionTree: max_depth 11 max_features 4  Точность ROC AUC 0.8029857582632964\n",
      "DesicionTree: max_depth 1 max_features 5  Точность ROC AUC 0.751411391258961\n",
      "DesicionTree: max_depth 2 max_features 5  Точность ROC AUC 0.8087831144345381\n",
      "DesicionTree: max_depth 3 max_features 5  Точность ROC AUC 0.8340470179699401\n",
      "DesicionTree: max_depth 4 max_features 5  Точность ROC AUC 0.8379323384356459\n",
      "DesicionTree: max_depth 5 max_features 5  Точность ROC AUC 0.8304785947869066\n",
      "DesicionTree: max_depth 6 max_features 5  Точность ROC AUC 0.8312162464448919\n",
      "DesicionTree: max_depth 7 max_features 5  Точность ROC AUC 0.8268143035183587\n",
      "DesicionTree: max_depth 8 max_features 5  Точность ROC AUC 0.796541292514833\n",
      "DesicionTree: max_depth 9 max_features 5  Точность ROC AUC 0.7813728309845652\n",
      "DesicionTree: max_depth 10 max_features 5  Точность ROC AUC 0.7902539439065179\n",
      "DesicionTree: max_depth 11 max_features 5  Точность ROC AUC 0.7850291332459869\n",
      "DesicionTree: max_depth 1 max_features 6  Точность ROC AUC 0.745097412626892\n",
      "DesicionTree: max_depth 2 max_features 6  Точность ROC AUC 0.7931885725242067\n",
      "DesicionTree: max_depth 3 max_features 6  Точность ROC AUC 0.8415433696566857\n",
      "DesicionTree: max_depth 4 max_features 6  Точность ROC AUC 0.8350376548535883\n",
      "DesicionTree: max_depth 5 max_features 6  Точность ROC AUC 0.8273948380361955\n",
      "DesicionTree: max_depth 6 max_features 6  Точность ROC AUC 0.8185696481641261\n",
      "DesicionTree: max_depth 7 max_features 6  Точность ROC AUC 0.8023759307193301\n",
      "DesicionTree: max_depth 8 max_features 6  Точность ROC AUC 0.8049404020068385\n",
      "DesicionTree: max_depth 9 max_features 6  Точность ROC AUC 0.7807470254263467\n",
      "DesicionTree: max_depth 10 max_features 6  Точность ROC AUC 0.8018886012846325\n",
      "DesicionTree: max_depth 11 max_features 6  Точность ROC AUC 0.796594552562341\n",
      "DesicionTree: max_depth 1 max_features 7  Точность ROC AUC 0.745097412626892\n",
      "DesicionTree: max_depth 2 max_features 7  Точность ROC AUC 0.8141597162304668\n",
      "DesicionTree: max_depth 3 max_features 7  Точность ROC AUC 0.8335570255328667\n",
      "DesicionTree: max_depth 4 max_features 7  Точность ROC AUC 0.8341215820364511\n",
      "DesicionTree: max_depth 5 max_features 7  Точность ROC AUC 0.8289340534091757\n",
      "DesicionTree: max_depth 6 max_features 7  Точность ROC AUC 0.8276584752713598\n",
      "DesicionTree: max_depth 7 max_features 7  Точность ROC AUC 0.813150438330191\n",
      "DesicionTree: max_depth 8 max_features 7  Точность ROC AUC 0.7978115446478978\n",
      "DesicionTree: max_depth 9 max_features 7  Точность ROC AUC 0.8000458036408569\n",
      "DesicionTree: max_depth 10 max_features 7  Точность ROC AUC 0.7991004377975905\n",
      "DesicionTree: max_depth 11 max_features 7  Точность ROC AUC 0.792288477721322\n"
     ]
    }
   ],
   "source": [
    "gr = np.arange(1, 8, 1)\n",
    "gr1 = np.arange(1, 12, 1)\n",
    "acc = 0\n",
    "\n",
    "for i in gr:\n",
    "    for j in gr1:\n",
    "        sc = 0\n",
    "        pred_test = np.zeros((ntrain, 2))\n",
    "        for train_idx, test_idx in kf.split(bashkatova):\n",
    "            dtc = tree.DecisionTreeClassifier(max_depth=j, max_features=i)\n",
    "            dtc = dtc.fit(xtall[train_idx], ytall[train_idx])\n",
    "            pred_test[test_idx] = dtc.predict_proba(xtall[test_idx])\n",
    "        ac = roc_auc_score(ytall, pred_test[:, 1]) \n",
    "        if ac > acc:\n",
    "            acc = ac\n",
    "            md = j\n",
    "            mf = i\n",
    "        print(\"DesicionTree: max_depth\", j, \"max_features\", i, \" Точность ROC AUC\", ac)"
   ]
  },
  {
   "cell_type": "markdown",
   "id": "d4d84056-4b55-4258-a701-272c3c3a4a48",
   "metadata": {},
   "source": [
    "После выполнения поиска, распечатаем наилучшие значения параметров \n",
    "дерева решений."
   ]
  },
  {
   "cell_type": "code",
   "execution_count": 45,
   "id": "9ee8b9b1-87d8-4978-9a12-6ce89ce265b0",
   "metadata": {},
   "outputs": [
    {
     "name": "stdout",
     "output_type": "stream",
     "text": [
      "best: max depth 6 max_features 3 Наилучшая метрика ROC AUC 0.8474259419039402\n"
     ]
    }
   ],
   "source": [
    "print(\"best: max depth\", md, \"max_features\", mf, \"Наилучшая метрика ROC AUC\", acc)"
   ]
  },
  {
   "cell_type": "markdown",
   "id": "18495a3c-09b4-414e-a017-1a9200416dec",
   "metadata": {},
   "source": [
    "Выполним построение моделей с наилучшими параметрами настройки"
   ]
  },
  {
   "cell_type": "code",
   "execution_count": 46,
   "id": "c7a5dc31-36a6-4986-9bbc-023819261c56",
   "metadata": {},
   "outputs": [],
   "source": [
    "pred_test = np.zeros((ntrain, 2))\n",
    "for train_idx, test_idx in kf.split(bashkatova):\n",
    "    dtc = tree.DecisionTreeClassifier(max_depth=5, max_features=3)  #, min_samples_leaf=1)\n",
    "    dtc = dtc.fit(xtall[train_idx], ytall[train_idx])\n",
    "    pred_test[test_idx] = dtc.predict_proba(xtall[test_idx])"
   ]
  },
  {
   "cell_type": "markdown",
   "id": "c7332171-5b3a-471f-aa04-1425f0e55a55",
   "metadata": {
    "jp-MarkdownHeadingCollapsed": true,
    "tags": []
   },
   "source": [
    "### 19. Построим кривую ROC AUC, используя уже знакомый нам код:"
   ]
  },
  {
   "cell_type": "code",
   "execution_count": 47,
   "id": "c55aba27-6e62-4044-8ba8-17d61e8248e4",
   "metadata": {},
   "outputs": [
    {
     "data": {
      "image/png": "[encoded data removed]",
      "text/plain": [
       "<Figure size 1200x1000 with 1 Axes>"
      ]
     },
     "metadata": {},
     "output_type": "display_data"
    }
   ],
   "source": [
    "plt.figure(figsize=(12, 10))\n",
    "fpr, tpr, thresholds = roc_curve(ytall, pred_test[:,1], pos_label=1)\n",
    "plt.plot(fpr, tpr, lw=2, label='ROC curve ')\n",
    "plt.plot([0, 1], [0, 1])\n",
    "plt.xlim([0.0, 1.0])\n",
    "plt.ylim([0.0, 1.0])\n",
    "plt.xlabel('False Positive Rate')\n",
    "plt.ylabel('True Positive Rate')\n",
    "plt.title('ROC curve')\n",
    "plt.show()\n"
   ]
  },
  {
   "cell_type": "markdown",
   "id": "00330c59-f7d0-4d68-9f13-0e2a0fef93a2",
   "metadata": {},
   "source": [
    "Вычислим метрику ROC AUC"
   ]
  },
  {
   "cell_type": "code",
   "execution_count": 48,
   "id": "6bd828b1-a24d-4a39-b12f-abf4fa9a1dfe",
   "metadata": {},
   "outputs": [
    {
     "name": "stdout",
     "output_type": "stream",
     "text": [
      "roc-auc 0.8449786427209492\n"
     ]
    }
   ],
   "source": [
    "roc= roc_auc_score(ytall, pred_test[:,1]) \n",
    "print(\"roc-auc\", roc)"
   ]
  },
  {
   "cell_type": "markdown",
   "id": "f3150e9c-eb7c-45e5-a641-a2d912b93611",
   "metadata": {
    "jp-MarkdownHeadingCollapsed": true,
    "tags": []
   },
   "source": [
    "### 20. Вычислим другие характеристики точности. \n",
    "Для этого требуется вычислить категориальную оценку прогноза. "
   ]
  },
  {
   "cell_type": "code",
   "execution_count": 67,
   "id": "a292ea10-2a38-4d63-841e-34677be6ad1b",
   "metadata": {},
   "outputs": [
    {
     "name": "stdout",
     "output_type": "stream",
     "text": [
      "Binary output\n"
     ]
    }
   ],
   "source": [
    "print(\"Binary output\") \n",
    "pred=[]\n",
    "for x in pred_test:\n",
    "    pred.append(np.argmax(x))"
   ]
  },
  {
   "cell_type": "markdown",
   "id": "46136519-4374-4be4-8c3e-bcba33b36949",
   "metadata": {},
   "source": [
    "Далее используем методы для построения отчета и матрицы неточностей"
   ]
  },
  {
   "cell_type": "code",
   "execution_count": 50,
   "id": "e074b0be-72b8-4d5f-9948-0ded5cc56e18",
   "metadata": {},
   "outputs": [
    {
     "name": "stdout",
     "output_type": "stream",
     "text": [
      "              precision    recall  f1-score   support\n",
      "\n",
      "    Спаслись     0.8114    0.9089    0.8574       549\n",
      "     Утонули     0.8188    0.6608    0.7314       342\n",
      "\n",
      "    accuracy                         0.8137       891\n",
      "   macro avg     0.8151    0.7849    0.7944       891\n",
      "weighted avg     0.8142    0.8137    0.8090       891\n",
      "\n",
      "[[499  50]\n",
      " [116 226]]\n"
     ]
    }
   ],
   "source": [
    "print(classification_report( ytall, pred, target_names=lab, digits=4))\n",
    "print(confusion_matrix(ytall , pred, labels=range(2)))"
   ]
  },
  {
   "cell_type": "markdown",
   "id": "779c9bb9-215b-4437-a358-9df0739fbf79",
   "metadata": {
    "jp-MarkdownHeadingCollapsed": true,
    "tags": []
   },
   "source": [
    "### 21. Для улучшения модели и лучшей ее интерпретации требуется определить какие показатели наиболее значимыми и важными для прогнозирования вероятности спасения пассажиров. \n",
    "Основная цель определения важности переменных − это оценка того, какие переменные, когда, где и как влияют на решаемую задачу.Для определения коэффициентов важности показателей используется атрибут feature_importances_."
   ]
  },
  {
   "cell_type": "code",
   "execution_count": null,
   "id": "00a68f71-f690-4861-ba59-c3173078b243",
   "metadata": {},
   "outputs": [],
   "source": []
  },
  {
   "cell_type": "code",
   "execution_count": 51,
   "id": "c1f0e1e4-972c-4f6f-8675-d7021f93a898",
   "metadata": {},
   "outputs": [
    {
     "data": {
      "text/plain": [
       "array([0.14059922, 0.53022461, 0.11517082, 0.04068004, 0.02023387,\n",
       "       0.14101341, 0.01207804])"
      ]
     },
     "execution_count": 51,
     "metadata": {},
     "output_type": "execute_result"
    }
   ],
   "source": [
    "imp= dtc.feature_importances_\n",
    "imp"
   ]
  },
  {
   "cell_type": "markdown",
   "id": "4709e349-6378-4f8a-a34c-ed466d72d62c",
   "metadata": {},
   "source": [
    "Для того чтобы этот массив был более понятным оформим его в виде таблицы rfImp"
   ]
  },
  {
   "cell_type": "code",
   "execution_count": 68,
   "id": "114d95cf-2132-4e23-96ec-e4b1497241f3",
   "metadata": {},
   "outputs": [
    {
     "data": {
      "text/html": [
       "<div>\n",
       "<style scoped>\n",
       "    .dataframe tbody tr th:only-of-type {\n",
       "        vertical-align: middle;\n",
       "    }\n",
       "\n",
       "    .dataframe tbody tr th {\n",
       "        vertical-align: top;\n",
       "    }\n",
       "\n",
       "    .dataframe thead th {\n",
       "        text-align: right;\n",
       "    }\n",
       "</style>\n",
       "<table border=\"1\" class=\"dataframe\">\n",
       "  <thead>\n",
       "    <tr style=\"text-align: right;\">\n",
       "      <th></th>\n",
       "      <th>imp</th>\n",
       "      <th>title</th>\n",
       "    </tr>\n",
       "  </thead>\n",
       "  <tbody>\n",
       "    <tr>\n",
       "      <th>1</th>\n",
       "      <td>0.530225</td>\n",
       "      <td>Sex</td>\n",
       "    </tr>\n",
       "    <tr>\n",
       "      <th>5</th>\n",
       "      <td>0.141013</td>\n",
       "      <td>Fare</td>\n",
       "    </tr>\n",
       "    <tr>\n",
       "      <th>0</th>\n",
       "      <td>0.140599</td>\n",
       "      <td>Pclass</td>\n",
       "    </tr>\n",
       "    <tr>\n",
       "      <th>2</th>\n",
       "      <td>0.115171</td>\n",
       "      <td>Age</td>\n",
       "    </tr>\n",
       "    <tr>\n",
       "      <th>3</th>\n",
       "      <td>0.040680</td>\n",
       "      <td>SibSp</td>\n",
       "    </tr>\n",
       "    <tr>\n",
       "      <th>4</th>\n",
       "      <td>0.020234</td>\n",
       "      <td>Parch</td>\n",
       "    </tr>\n",
       "    <tr>\n",
       "      <th>6</th>\n",
       "      <td>0.012078</td>\n",
       "      <td>Embarked</td>\n",
       "    </tr>\n",
       "  </tbody>\n",
       "</table>\n",
       "</div>"
      ],
      "text/plain": [
       "        imp     title\n",
       "1  0.530225       Sex\n",
       "5  0.141013      Fare\n",
       "0  0.140599    Pclass\n",
       "2  0.115171       Age\n",
       "3  0.040680     SibSp\n",
       "4  0.020234     Parch\n",
       "6  0.012078  Embarked"
      ]
     },
     "execution_count": 68,
     "metadata": {},
     "output_type": "execute_result"
    }
   ],
   "source": [
    "imp= dtc.feature_importances_\n",
    "rfImp = pd.DataFrame(imp, columns=['imp'])\n",
    "title1=bashkatova.columns\n",
    "rfImp['title']=title1\n",
    "rfImp = rfImp.sort_values('imp', ascending = False)\n",
    "rfImp.head(7)"
   ]
  },
  {
   "cell_type": "markdown",
   "id": "55646d68-cb7d-4430-9140-4d473e148814",
   "metadata": {
    "tags": []
   },
   "source": [
    "## Визуализация модели (только если установлены библиотеки pyplotplus)"
   ]
  },
  {
   "cell_type": "markdown",
   "id": "1f36698b-75d2-497d-acb0-40804c4919bc",
   "metadata": {
    "jp-MarkdownHeadingCollapsed": true,
    "tags": []
   },
   "source": [
    "\n",
    "### 22. Для визуализации модели используем функцию *export_graphviz()* класса Дерево решений. \n",
    "Этот метод формирует текстовый массив, который можно преобразовать в графический с помощью метода *graph_from_dot_data()* библиотеки *pydotplus*. \n",
    "<br>Функция export_graphviz() имеет следующие аргументы:\n",
    "1) ссылка на объект обученной модели;\n",
    "2) feature_names – массив имен показателей;\n",
    "3) class_names –массив имен целевых классов;\n",
    "4) out_file – имя выходного файла;\n",
    "5) filled – если параметр имеет значение True, то для каждого узла указывается приоритетный класс;\n",
    "6) rounded – если параметр имеет значение True, то узлы рисуются с закругленными углами и используются шрифт Helvetica вместо Times-Roman"
   ]
  },
  {
   "cell_type": "code",
   "execution_count": 53,
   "id": "b1cccd57-120c-45cd-9922-88da3b0bb86a",
   "metadata": {},
   "outputs": [
    {
     "name": "stdout",
     "output_type": "stream",
     "text": [
      "Requirement already satisfied: pydotplus in c:\\users\\bashk\\anaconda3\\lib\\site-packages (2.0.2)\n",
      "Requirement already satisfied: pyparsing>=2.0.1 in c:\\users\\bashk\\anaconda3\\lib\\site-packages (from pydotplus) (3.0.9)\n"
     ]
    }
   ],
   "source": [
    "!pip install pydotplus"
   ]
  },
  {
   "cell_type": "code",
   "execution_count": 54,
   "id": "ea635867-4701-45ad-b555-faa939787c2e",
   "metadata": {},
   "outputs": [
    {
     "name": "stdout",
     "output_type": "stream",
     "text": [
      "Requirement already satisfied: graphviz in c:\\users\\bashk\\anaconda3\\lib\\site-packages (0.20.1)\n"
     ]
    }
   ],
   "source": [
    "!pip install graphviz"
   ]
  },
  {
   "cell_type": "markdown",
   "id": "e879c9c6-2ec3-4d0c-a943-7737ad7db14a",
   "metadata": {},
   "source": [
    "Чтобы посмотреть дерево решений, не используя графический редактор, прочитаем графический файл и отобразим его на картинке с помощью библиотеки matplotlib. Сначала используя функцию imread() прочитаем наш файл. При этом функция возвращает числовой массив типа numpy.array. Для изображений в оттенках серого возвращается массив MxN. Для изображений RGB возвращаемое значение равно MxNx3. Для изобра\u0002жений RGBA возвращаемое значение − MxNx4. Формат RGBA похож по синтаксису на RGB, но включает в себя дополнительный канал, задающий \n",
    "прозрачность элемента. "
   ]
  },
  {
   "cell_type": "code",
   "execution_count": 56,
   "id": "d2e8acdd-949c-4989-9a78-1826feed3da5",
   "metadata": {},
   "outputs": [
    {
     "data": {
      "text/plain": [
       "array([[[1., 1., 1., 1.],\n",
       "        [1., 1., 1., 1.],\n",
       "        [1., 1., 1., 1.],\n",
       "        ...,\n",
       "        [1., 1., 1., 1.],\n",
       "        [1., 1., 1., 1.],\n",
       "        [1., 1., 1., 1.]],\n",
       "\n",
       "       [[1., 1., 1., 1.],\n",
       "        [1., 1., 1., 1.],\n",
       "        [1., 1., 1., 1.],\n",
       "        ...,\n",
       "        [1., 1., 1., 1.],\n",
       "        [1., 1., 1., 1.],\n",
       "        [1., 1., 1., 1.]],\n",
       "\n",
       "       [[1., 1., 1., 1.],\n",
       "        [1., 1., 1., 1.],\n",
       "        [1., 1., 1., 1.],\n",
       "        ...,\n",
       "        [1., 1., 1., 1.],\n",
       "        [1., 1., 1., 1.],\n",
       "        [1., 1., 1., 1.]],\n",
       "\n",
       "       ...,\n",
       "\n",
       "       [[1., 1., 1., 1.],\n",
       "        [1., 1., 1., 1.],\n",
       "        [1., 1., 1., 1.],\n",
       "        ...,\n",
       "        [1., 1., 1., 1.],\n",
       "        [1., 1., 1., 1.],\n",
       "        [1., 1., 1., 1.]],\n",
       "\n",
       "       [[1., 1., 1., 1.],\n",
       "        [1., 1., 1., 1.],\n",
       "        [1., 1., 1., 1.],\n",
       "        ...,\n",
       "        [1., 1., 1., 1.],\n",
       "        [1., 1., 1., 1.],\n",
       "        [1., 1., 1., 1.]],\n",
       "\n",
       "       [[1., 1., 1., 1.],\n",
       "        [1., 1., 1., 1.],\n",
       "        [1., 1., 1., 1.],\n",
       "        ...,\n",
       "        [1., 1., 1., 1.],\n",
       "        [1., 1., 1., 1.],\n",
       "        [1., 1., 1., 1.]]], dtype=float32)"
      ]
     },
     "execution_count": 56,
     "metadata": {},
     "output_type": "execute_result"
    }
   ],
   "source": [
    "import matplotlib.image as mpimg\n",
    "img=mpimg.imread(\"DC.png\")\n",
    "img"
   ]
  },
  {
   "cell_type": "markdown",
   "id": "f13292bf-0a07-4e59-b95f-afc6c3e336ca",
   "metadata": {},
   "source": [
    "Класс figure и метод imshow() для отображения графического файла"
   ]
  },
  {
   "cell_type": "code",
   "execution_count": 55,
   "id": "f2032bb6-0091-4249-86bc-437c750fb80f",
   "metadata": {},
   "outputs": [
    {
     "data": {
      "image/png": "[encoded data removed]",
      "text/plain": [
       "<Figure size 1200x1200 with 1 Axes>"
      ]
     },
     "metadata": {},
     "output_type": "display_data"
    }
   ],
   "source": [
    "import matplotlib.pyplot as plt\n",
    "fig, ax = plt.subplots(figsize=(12, 12))\n",
    "tree.plot_tree(dtc, feature_names=title1.tolist(), class_names=[\"Выжили\", \"Утонули\"], filled=True, rounded=True, ax=ax)\n",
    "plt.savefig(\"DC.png\")"
   ]
  },
  {
   "cell_type": "markdown",
   "id": "4181cb7f-6520-47f9-bfc0-f02c3ee1e925",
   "metadata": {
    "jp-MarkdownHeadingCollapsed": true,
    "tags": []
   },
   "source": [
    "**Метод Random Forest**\n",
    "### 23. Результаты выбора наилучших параметров обучения модели"
   ]
  },
  {
   "cell_type": "markdown",
   "id": "63e05942-700c-445d-b0d5-b3a2a04c5c5f",
   "metadata": {},
   "source": [
    "При использовании кросс-валидации разбиваем выборку на 5 фолдов и выполняем построение 5 моделей. \n",
    "Поэтому при появлении новых данных для их классификации у нас имеется 5 моделей. \n",
    "Самый простой путь выполнить классификацию с помощью 5 моделей, а затем провести осреднение. \n",
    "Таким образом мы используем самый простой вариант ансамбля моделей. \n",
    "Random forest представляет метод, который строит не одно дерево решений, а много деревьев (лес деревьев). \n",
    "Таким образом, наша задача − построить модель прогноза вероятности спасения пассажиров методом случайных \n",
    "деревьев (Random forest). На первом шаге выполняем поиск наулучших параметров: число деревьев и максимальная глубина дерева."
   ]
  },
  {
   "cell_type": "code",
   "execution_count": 57,
   "id": "e8cdf666-650f-4ee8-84b7-6502cd195d25",
   "metadata": {},
   "outputs": [
    {
     "name": "stdout",
     "output_type": "stream",
     "text": [
      "Random Forest: max_depth 1 n_estimators 1 ROC AUC 0.7157058554096231 Точность 0.6878475927437073\n",
      "Random Forest: max_depth 2 n_estimators 1 ROC AUC 0.7775168035449886 Точность 0.7620048961144937\n",
      "Random Forest: max_depth 4 n_estimators 1 ROC AUC 0.8017820811896165 Точность 0.744146632352018\n",
      "Random Forest: max_depth 2 n_estimators 2 ROC AUC 0.8034091756409847 Точность 0.7744334944447931\n",
      "Random Forest: max_depth 3 n_estimators 2 ROC AUC 0.8201434825679865 Точность 0.8058313979034587\n",
      "Random Forest: max_depth 6 n_estimators 2 ROC AUC 0.8366913793287103 Точность 0.7857071119201556\n",
      "Random Forest: max_depth 7 n_estimators 2 ROC AUC 0.8488879302080337 Точность 0.7789090452576737\n",
      "Random Forest: max_depth 5 n_estimators 3 ROC AUC 0.8493113475857222 Точность 0.8081350825434687\n",
      "Random Forest: max_depth 4 n_estimators 4 ROC AUC 0.8508665409729546 Точность 0.8148138848785387\n",
      "Random Forest: max_depth 5 n_estimators 4 ROC AUC 0.8514124564599113 Точность 0.8136840123030569\n",
      "Random Forest: max_depth 6 n_estimators 4 ROC AUC 0.8516201706451924 Точность 0.8181783943255289\n",
      "Random Forest: max_depth 5 n_estimators 5 ROC AUC 0.8579874093247692 Точность 0.8080723118448307\n",
      "Random Forest: max_depth 8 n_estimators 5 ROC AUC 0.8580113763461477 Точность 0.818209779674848\n",
      "Random Forest: max_depth 6 n_estimators 6 ROC AUC 0.8653346328784925 Точность 0.8170673529596384\n",
      "Random Forest: max_depth 6 n_estimators 9 ROC AUC 0.8703037953109856 Точность 0.8238152030632101\n"
     ]
    }
   ],
   "source": [
    "import numpy as np\n",
    "from sklearn.ensemble import RandomForestClassifier\n",
    "from sklearn.model_selection import KFold\n",
    "from sklearn.metrics import roc_auc_score\n",
    "gr = np.arange(1, 45, 1)\n",
    "gr1 = np.arange(1, 12, 1)\n",
    "acc = 0\n",
    "kf = KFold(n_splits=NFOLDS) \n",
    "for i in gr:\n",
    "    for j in gr1:\n",
    "        scc = 0\n",
    "        pred_test = np.zeros((ntrain, 2))\n",
    "        for ttrain, ttest in kf.split(xtall):\n",
    "            rfc = RandomForestClassifier(n_estimators=i, max_depth=j)\n",
    "            rfc.fit(xtall[ttrain], ytall[ttrain]) \n",
    "            pred_test[ttest] = rfc.predict_proba(xtall[ttest])\n",
    "            scc += rfc.score(xtall[ttest], ytall[ttest])\n",
    "        ac = roc_auc_score(ytall, pred_test[:, 1]) \n",
    "        scc = scc / NFOLDS\n",
    "        if ac > acc:\n",
    "            acc = ac\n",
    "            md = j\n",
    "            mf = i\n",
    "            print(\"Random Forest: max_depth\", j, \"n_estimators\", i, \"ROC AUC\", ac, \"Точность\", scc)"
   ]
  },
  {
   "cell_type": "markdown",
   "id": "8a93eacd-1898-4ff4-ba95-b98635ba6328",
   "metadata": {},
   "source": [
    "При поиске наилучших параметров вычисляется точность прогноза, как среднеарифметическое точность прогнозирования отдельных фолдов."
   ]
  },
  {
   "cell_type": "markdown",
   "id": "2ea4fbd4-f2bd-47b8-9062-e3b416a4c485",
   "metadata": {},
   "source": [
    "Распечатаем наилучшие показатели:"
   ]
  },
  {
   "cell_type": "code",
   "execution_count": 58,
   "id": "fdfde4d1-b09c-4166-8b40-0849550985b4",
   "metadata": {},
   "outputs": [
    {
     "name": "stdout",
     "output_type": "stream",
     "text": [
      "best: max depth 6 n_estimators 9 Наилучшая метрика ROC AUC 0.8703037953109856\n"
     ]
    }
   ],
   "source": [
    "print(\"best: max depth\", md, \"n_estimators\", mf, \"Наилучшая метрика ROC AUC\", acc)"
   ]
  },
  {
   "cell_type": "markdown",
   "id": "f29e3c62-7bdb-4442-915c-c142a11fbcf5",
   "metadata": {},
   "source": [
    "Пробуем повторить результат"
   ]
  },
  {
   "cell_type": "code",
   "execution_count": 59,
   "id": "60e0051f-d9b4-47ce-b9e1-0fc4fb1cddd4",
   "metadata": {},
   "outputs": [
    {
     "name": "stdout",
     "output_type": "stream",
     "text": [
      "ROC AUC: 0.8576864900563492 Accuracy: 0.8170987383089574\n"
     ]
    }
   ],
   "source": [
    "scc = 0\n",
    "pred_test = np.zeros((ntrain, 2))\n",
    "\n",
    "for ttrain, ttest in kf.split(xtall):\n",
    "    rfc = RandomForestClassifier(n_estimators=13, max_depth=9)\n",
    "    rfc.fit(xtall[ttrain], ytall[ttrain]) \n",
    "    pred_test[ttest] = rfc.predict_proba(xtall[ttest])\n",
    "    scc += rfc.score(xtall[ttest], ytall[ttest])\n",
    "\n",
    "roc = roc_auc_score(ytall, pred_test[:, 1])\n",
    "scc = scc / NFOLDS\n",
    "print(\"ROC AUC:\", roc, \"Accuracy:\", scc)"
   ]
  },
  {
   "cell_type": "markdown",
   "id": "82e99d6e-e0c8-4ce0-b591-bb2a5bf9c42a",
   "metadata": {},
   "source": [
    "Полученный результат не совпадает с тем, что получен при поиске наилучших параметров. Это связано с тем, что при построении модели присутствует случайный фактор. Если начнем повторять выше представленный код, то для каждого повторения будем получать разный результат"
   ]
  },
  {
   "cell_type": "markdown",
   "id": "508ac134-c4c5-4215-918e-321e10e78e37",
   "metadata": {
    "jp-MarkdownHeadingCollapsed": true,
    "tags": []
   },
   "source": [
    "### 24. Код функций для сохранения и загрузки моделей"
   ]
  },
  {
   "cell_type": "markdown",
   "id": "97d864a9-e346-4c28-9cc8-e6c1fc108a5a",
   "metadata": {},
   "source": [
    "Чтобы избежать этого недостатка, нам требуется при выборе наилучших параметров сохранять наилучшие модели. Напишем две функции, одна из которых сохраняет модель в файл, а другая загружает модель из файла. \n",
    "Для этого используем библиотеку _pickle.\n",
    "Модуль _pickle реализует алгоритм сериализации и десериализации объектов Python. Pickling − процесс преобразования объекта Python в поток бай\u0002тов, а unpickling − обратная операция, в результате которой поток байтов преобразуется обратно в Python-объект. Так как поток байтов легко можно \n",
    "записать в файл, модуль pickle широко применяется для сохранения и загрузки сложных объектов в Python."
   ]
  },
  {
   "cell_type": "code",
   "execution_count": 60,
   "id": "c0b03986-65ef-4d8a-b67b-0a97975e13cf",
   "metadata": {},
   "outputs": [],
   "source": [
    "import _pickle as cPickle\n",
    "def SaveModel(name, rfc):\n",
    "    with open(name, 'wb') as f:\n",
    "        cPickle.dump(rfc, f)\n",
    "def LoadModel(name):\n",
    "    with open(name, 'rb') as f:\n",
    "        rf = cPickle.load(f)\n",
    "    return rf"
   ]
  },
  {
   "cell_type": "markdown",
   "id": "d7a86039-32c2-45e5-b391-5e1dfce30c07",
   "metadata": {},
   "source": [
    "Дополните код по поиску наилучших параметров обучения операторами сохранения модели в файл. Так как строим одну модель на каждый фолд, нам нужно сохранить пять моделей. Поэтому в рамках двойного цикла перебора параметров создайте массив modl, в который для каждого сочетания параметров будут сохраняться модели с помощью функции append()"
   ]
  },
  {
   "cell_type": "code",
   "execution_count": 61,
   "id": "5d613324-398a-4c49-996e-6343d9be5d6d",
   "metadata": {},
   "outputs": [
    {
     "name": "stdout",
     "output_type": "stream",
     "text": [
      "Random Forest: max_depth 1 n_estimators 1  ROC AUC 0.6689009256596257  Точность 0.6724373862281088\n",
      "Random Forest: max_depth 2 n_estimators 1  ROC AUC 0.7484634476293954  Точность 0.728516728391187\n",
      "Random Forest: max_depth 3 n_estimators 1  ROC AUC 0.7882513661202186  Точность 0.7577176573975268\n",
      "Random Forest: max_depth 4 n_estimators 1  ROC AUC 0.8140425441259493  Точность 0.7676228736425836\n",
      "Random Forest: max_depth 5 n_estimators 1  ROC AUC 0.8191874647152184  Точность 0.7923419747661792\n",
      "Random Forest: max_depth 4 n_estimators 2  ROC AUC 0.8327687768297489  Точность 0.7901638315234449\n",
      "Random Forest: max_depth 5 n_estimators 2  ROC AUC 0.8355143322787846  Точность 0.7857573284790659\n",
      "Random Forest: max_depth 4 n_estimators 3  ROC AUC 0.8391280265021996  Точность 0.793528340970435\n",
      "Random Forest: max_depth 5 n_estimators 3  ROC AUC 0.84401197285868  Точность 0.782298662984119\n",
      "Random Forest: max_depth 5 n_estimators 4  ROC AUC 0.8527812396808658  Точность 0.7946519364760529\n",
      "Random Forest: max_depth 6 n_estimators 4  ROC AUC 0.8634652052109631  Точность 0.8114807607808675\n",
      "Random Forest: max_depth 5 n_estimators 7  ROC AUC 0.8640617177430523  Точность 0.8170610758897746\n",
      "Random Forest: max_depth 6 n_estimators 7  ROC AUC 0.8659657644414619  Точность 0.8013809553700332\n",
      "Random Forest: max_depth 6 n_estimators 15  ROC AUC 0.8679949722515152  Точность 0.8148389931579938\n",
      "Random Forest: max_depth 7 n_estimators 20  ROC AUC 0.869765868831155  Точность 0.8305316678174627\n",
      "Random Forest: max_depth 7 n_estimators 23  ROC AUC 0.8709216118620778  Точность 0.828278199736363\n"
     ]
    }
   ],
   "source": [
    "gr = np.arange(1, 45, 1)\n",
    "gr1 = np.arange(1, 12, 1)\n",
    "acc = 0\n",
    "\n",
    "for i in gr:\n",
    "    for j in gr1:\n",
    "        scc = 0\n",
    "        modl = []\n",
    "        pred_test = np.zeros((ntrain, 2))\n",
    "        for ttrain, ttest in kf.split(xtall):\n",
    "            rfc = RandomForestClassifier(n_estimators=i, max_depth=j)\n",
    "            rfc.fit(xtall[ttrain], ytall[ttrain])\n",
    "            pred_test[ttest] = rfc.predict_proba(xtall[ttest])\n",
    "            modl.append(rfc)\n",
    "            scc += rfc.score(xtall[ttest], ytall[ttest])\n",
    "        ac = roc_auc_score(ytall, pred_test[:, 1])\n",
    "        scc = scc / NFOLDS\n",
    "        if ac > acc:\n",
    "            acc = ac\n",
    "            for kk in np.arange(0, NFOLDS, 1):\n",
    "                s = \"RF\" + str(kk) + \".model\"\n",
    "                SaveModel(s, modl[kk])\n",
    "            md = j\n",
    "            mf = i\n",
    "            print(\"Random Forest: max_depth\", j, \"n_estimators\", i, \" ROC AUC\", ac, \" Точность\", scc)\n"
   ]
  },
  {
   "cell_type": "markdown",
   "id": "943c937a-0237-449b-a335-e3bbb559c901",
   "metadata": {},
   "source": [
    "Для прогнозирования используем функцию загрузки модели"
   ]
  },
  {
   "cell_type": "code",
   "execution_count": 62,
   "id": "11b74dd8-8984-4355-9f44-046c9e170183",
   "metadata": {},
   "outputs": [
    {
     "name": "stdout",
     "output_type": "stream",
     "text": [
      "RF0.model\n",
      "RF1.model\n",
      "RF2.model\n",
      "RF3.model\n",
      "RF4.model\n",
      "roc_auc 0.8709216118620778 Accuracy 0.828278199736363\n"
     ]
    }
   ],
   "source": [
    "scc=0\n",
    "pred_test = np.zeros((ntrain,2))\n",
    "for kk, (ttrain, ttest) in enumerate(kf.split(xtall)):\n",
    "    rfc = RandomForestClassifier(n_estimators=26, max_depth=6)\n",
    "    s = \"RF\" + str(kk) + \".model\"\n",
    "    print(s)\n",
    "    rfc = LoadModel(s) \n",
    "    pred_test[ttest] = rfc.predict_proba(xtall[ttest])\n",
    "    scc += rfc.score(xtall[ttest], ytall[ttest])\n",
    "\n",
    "roc = roc_auc_score(ytall, pred_test[:,1]) \n",
    "scc = scc / NFOLDS\n",
    "print(\"roc_auc\", roc, \"Accuracy\", scc)"
   ]
  },
  {
   "cell_type": "markdown",
   "id": "a4db4d0d-10be-4a64-8958-1e15d617b10e",
   "metadata": {},
   "source": [
    "### 25. Используем функции estim() для оценки полученных результатов"
   ]
  },
  {
   "cell_type": "code",
   "execution_count": 63,
   "id": "95073da1-ff71-49b8-883b-64a88e47cbf8",
   "metadata": {},
   "outputs": [
    {
     "name": "stdout",
     "output_type": "stream",
     "text": [
      "Precission:  0.8278145695364238 класс 0 спаслись 604  Из них правильно спрогнозировано = 500 , ошибочно= 104\n",
      "Precission:  0.8292682926829268 класс 1 утонуло 738  Из них правильно спрогнозировано = 238 , ошибочно= 500\n",
      "Recall:  0.9107468123861566 класс 0 спаслись\n",
      "Recall:  0.695906432748538 класс 1 утонуло\n",
      "Точность распознавания  0.8282828282828283  precission recall\n"
     ]
    },
    {
     "data": {
      "text/plain": [
       "0.8282828282828283"
      ]
     },
     "execution_count": 63,
     "metadata": {},
     "output_type": "execute_result"
    }
   ],
   "source": [
    "estim(pred_test[:,1], ytall, 0.5)"
   ]
  },
  {
   "cell_type": "markdown",
   "id": "7f8ddc17-0d05-4d05-9082-34201fe87f70",
   "metadata": {},
   "source": [
    "Использование методов classification_report() и confusion_matrix() для вычисление различных метрик, оценивающих точность прогнозирования, и \n",
    "вычисления матрицы неточностей. "
   ]
  },
  {
   "cell_type": "code",
   "execution_count": 64,
   "id": "b0422422-45c7-47c1-9213-0894f6f47888",
   "metadata": {},
   "outputs": [
    {
     "name": "stdout",
     "output_type": "stream",
     "text": [
      "              precision    recall  f1-score   support\n",
      "\n",
      "    Спаслись     0.8278    0.9107    0.8673       549\n",
      "     Утонули     0.8293    0.6959    0.7568       342\n",
      "\n",
      "    accuracy                         0.8283       891\n",
      "   macro avg     0.8285    0.8033    0.8120       891\n",
      "weighted avg     0.8284    0.8283    0.8249       891\n",
      "\n",
      "[[500  49]\n",
      " [104 238]]\n"
     ]
    }
   ],
   "source": [
    "pred=[]\n",
    "for x in pred_test:\n",
    "    pred.append(np.argmax(x))\n",
    "print(classification_report( ytall, pred, target_names=lab, digits=4))\n",
    "print(confusion_matrix( ytall , pred, labels=range(2)))"
   ]
  },
  {
   "cell_type": "markdown",
   "id": "dc4586c9-a160-4203-aeca-695fd8109d44",
   "metadata": {},
   "source": [
    "Создание структуры rfImp со столбцами 'title' и 'imp'"
   ]
  },
  {
   "cell_type": "code",
   "execution_count": 65,
   "id": "15e6ef69-146c-4e41-8c89-63929995c840",
   "metadata": {},
   "outputs": [],
   "source": [
    "imp =rfc.feature_importances_\n",
    "rfImp = pd.DataFrame(imp, columns=['imp'])\n",
    "rfImp['title']=title1"
   ]
  },
  {
   "cell_type": "markdown",
   "id": "ae7397a6-125a-4bdd-a95b-f75e6f5d0971",
   "metadata": {},
   "source": [
    "Сортировка коэффициентов важности в порядке их убывания."
   ]
  },
  {
   "cell_type": "code",
   "execution_count": 66,
   "id": "9fa1f602-6e76-4a91-a04f-a06d3ef31b27",
   "metadata": {},
   "outputs": [
    {
     "data": {
      "text/html": [
       "<div>\n",
       "<style scoped>\n",
       "    .dataframe tbody tr th:only-of-type {\n",
       "        vertical-align: middle;\n",
       "    }\n",
       "\n",
       "    .dataframe tbody tr th {\n",
       "        vertical-align: top;\n",
       "    }\n",
       "\n",
       "    .dataframe thead th {\n",
       "        text-align: right;\n",
       "    }\n",
       "</style>\n",
       "<table border=\"1\" class=\"dataframe\">\n",
       "  <thead>\n",
       "    <tr style=\"text-align: right;\">\n",
       "      <th></th>\n",
       "      <th>imp</th>\n",
       "      <th>title</th>\n",
       "    </tr>\n",
       "  </thead>\n",
       "  <tbody>\n",
       "    <tr>\n",
       "      <th>1</th>\n",
       "      <td>0.394534</td>\n",
       "      <td>Sex</td>\n",
       "    </tr>\n",
       "    <tr>\n",
       "      <th>5</th>\n",
       "      <td>0.197739</td>\n",
       "      <td>Fare</td>\n",
       "    </tr>\n",
       "    <tr>\n",
       "      <th>2</th>\n",
       "      <td>0.161088</td>\n",
       "      <td>Age</td>\n",
       "    </tr>\n",
       "    <tr>\n",
       "      <th>0</th>\n",
       "      <td>0.104604</td>\n",
       "      <td>Pclass</td>\n",
       "    </tr>\n",
       "    <tr>\n",
       "      <th>3</th>\n",
       "      <td>0.059776</td>\n",
       "      <td>SibSp</td>\n",
       "    </tr>\n",
       "    <tr>\n",
       "      <th>6</th>\n",
       "      <td>0.042434</td>\n",
       "      <td>Embarked</td>\n",
       "    </tr>\n",
       "    <tr>\n",
       "      <th>4</th>\n",
       "      <td>0.039825</td>\n",
       "      <td>Parch</td>\n",
       "    </tr>\n",
       "  </tbody>\n",
       "</table>\n",
       "</div>"
      ],
      "text/plain": [
       "        imp     title\n",
       "1  0.394534       Sex\n",
       "5  0.197739      Fare\n",
       "2  0.161088       Age\n",
       "0  0.104604    Pclass\n",
       "3  0.059776     SibSp\n",
       "6  0.042434  Embarked\n",
       "4  0.039825     Parch"
      ]
     },
     "execution_count": 66,
     "metadata": {},
     "output_type": "execute_result"
    }
   ],
   "source": [
    "rfImp = rfImp.sort_values('imp', ascending = False)\n",
    "rfImp"
   ]
  }
 ],
 "metadata": {
  "kernelspec": {
   "display_name": "Python 3 (ipykernel)",
   "language": "python",
   "name": "python3"
  },
  "language_info": {
   "codemirror_mode": {
    "name": "ipython",
    "version": 3
   },
   "file_extension": ".py",
   "mimetype": "text/x-python",
   "name": "python",
   "nbconvert_exporter": "python",
   "pygments_lexer": "ipython3",
   "version": "3.10.9"
  }
 },
 "nbformat": 4,
 "nbformat_minor": 5
}
